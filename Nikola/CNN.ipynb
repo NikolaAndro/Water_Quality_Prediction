{
 "cells": [
  {
   "cell_type": "code",
   "execution_count": 2,
   "id": "c8b1428a",
   "metadata": {},
   "outputs": [],
   "source": [
    "\n",
    "import tensorflow as tf\n",
    "from tensorflow import keras\n",
    "from tensorflow.keras import layers\n",
    "from tensorflow.keras.models import Sequential\n",
    "from tensorflow.keras.layers import Activation, Dense\n",
    "from tensorflow.keras.optimizers import Adam\n",
    "from tensorflow.keras.metrics import categorical_crossentropy\n",
    "\n"
   ]
  },
  {
   "cell_type": "code",
   "execution_count": 3,
   "id": "b9584c64",
   "metadata": {},
   "outputs": [],
   "source": [
    "import pandas as pd\n",
    "import numpy as np\n",
    "from random import randint\n",
    "from sklearn.utils import shuffle\n",
    "from sklearn.preprocessing import MinMaxScaler\n",
    "from sklearn.model_selection import train_test_split\n",
    "import matplotlib.pyplot as plt\n",
    "from sklearn.metrics import mean_squared_error\n",
    "import keras_tuner as kt"
   ]
  },
  {
   "cell_type": "code",
   "execution_count": 4,
   "id": "98f9e5d2",
   "metadata": {},
   "outputs": [],
   "source": [
    "train_labels = []\n",
    "train_samples = []"
   ]
  },
  {
   "cell_type": "code",
   "execution_count": 22,
   "id": "68668db6",
   "metadata": {},
   "outputs": [],
   "source": [
    "\n",
    "# read in the file\n",
    "training_dataset = pd.read_csv(\n",
    "    r'./waters_datasets/Cleaned_Datasets/Merged_Dataset_For_Trainging.csv',\n",
    "    usecols=[\n",
    "        \"DO\",\"PH\",\"Conductivity\",\"BOD\",\"NI\",\"Fec_col\",\"Tot_col\",\"WQI\"\n",
    "    ]\n",
    ")[[\"DO\",\"PH\",\"Conductivity\",\"BOD\",\"NI\",\"Fec_col\",\"Tot_col\",\"WQI\"]]\n",
    "\n",
    "x_train = training_dataset[[\"DO\",\"PH\",\"Conductivity\",\"BOD\",\"NI\",\"Fec_col\",\"Tot_col\"]]\n",
    "y_train = training_dataset[\"WQI\"]"
   ]
  },
  {
   "cell_type": "code",
   "execution_count": 24,
   "id": "a1ebdf67",
   "metadata": {},
   "outputs": [
    {
     "data": {
      "text/html": [
       "<div>\n",
       "<style scoped>\n",
       "    .dataframe tbody tr th:only-of-type {\n",
       "        vertical-align: middle;\n",
       "    }\n",
       "\n",
       "    .dataframe tbody tr th {\n",
       "        vertical-align: top;\n",
       "    }\n",
       "\n",
       "    .dataframe thead th {\n",
       "        text-align: right;\n",
       "    }\n",
       "</style>\n",
       "<table border=\"1\" class=\"dataframe\">\n",
       "  <thead>\n",
       "    <tr style=\"text-align: right;\">\n",
       "      <th></th>\n",
       "      <th>DO</th>\n",
       "      <th>PH</th>\n",
       "      <th>Conductivity</th>\n",
       "      <th>BOD</th>\n",
       "      <th>NI</th>\n",
       "      <th>Fec_col</th>\n",
       "      <th>Tot_col</th>\n",
       "    </tr>\n",
       "  </thead>\n",
       "  <tbody>\n",
       "    <tr>\n",
       "      <th>0</th>\n",
       "      <td>6.6</td>\n",
       "      <td>6.5</td>\n",
       "      <td>748.0</td>\n",
       "      <td>1.4</td>\n",
       "      <td>7.0</td>\n",
       "      <td>18.0</td>\n",
       "      <td>12000.0</td>\n",
       "    </tr>\n",
       "    <tr>\n",
       "      <th>1</th>\n",
       "      <td>6.6</td>\n",
       "      <td>6.4</td>\n",
       "      <td>338.0</td>\n",
       "      <td>1.1</td>\n",
       "      <td>0.7</td>\n",
       "      <td>75.0</td>\n",
       "      <td>5500.0</td>\n",
       "    </tr>\n",
       "    <tr>\n",
       "      <th>2</th>\n",
       "      <td>6.6</td>\n",
       "      <td>7.0</td>\n",
       "      <td>333.0</td>\n",
       "      <td>1.4</td>\n",
       "      <td>0.5</td>\n",
       "      <td>0.0</td>\n",
       "      <td>91.0</td>\n",
       "    </tr>\n",
       "    <tr>\n",
       "      <th>3</th>\n",
       "      <td>6.6</td>\n",
       "      <td>5.7</td>\n",
       "      <td>791.0</td>\n",
       "      <td>1.9</td>\n",
       "      <td>0.3</td>\n",
       "      <td>0.0</td>\n",
       "      <td>46.0</td>\n",
       "    </tr>\n",
       "    <tr>\n",
       "      <th>4</th>\n",
       "      <td>6.6</td>\n",
       "      <td>7.0</td>\n",
       "      <td>510.0</td>\n",
       "      <td>2.2</td>\n",
       "      <td>3.1</td>\n",
       "      <td>54.0</td>\n",
       "      <td>3350.0</td>\n",
       "    </tr>\n",
       "  </tbody>\n",
       "</table>\n",
       "</div>"
      ],
      "text/plain": [
       "    DO   PH  Conductivity  BOD   NI  Fec_col  Tot_col\n",
       "0  6.6  6.5         748.0  1.4  7.0     18.0  12000.0\n",
       "1  6.6  6.4         338.0  1.1  0.7     75.0   5500.0\n",
       "2  6.6  7.0         333.0  1.4  0.5      0.0     91.0\n",
       "3  6.6  5.7         791.0  1.9  0.3      0.0     46.0\n",
       "4  6.6  7.0         510.0  2.2  3.1     54.0   3350.0"
      ]
     },
     "execution_count": 24,
     "metadata": {},
     "output_type": "execute_result"
    }
   ],
   "source": [
    "x_train.head()"
   ]
  },
  {
   "cell_type": "code",
   "execution_count": 25,
   "id": "14f30601",
   "metadata": {},
   "outputs": [
    {
     "data": {
      "text/plain": [
       "0    46.167450\n",
       "1    40.826550\n",
       "2    51.027703\n",
       "3    32.954697\n",
       "4    60.342890\n",
       "Name: WQI, dtype: float64"
      ]
     },
     "execution_count": 25,
     "metadata": {},
     "output_type": "execute_result"
    }
   ],
   "source": [
    "y_train.head()"
   ]
  },
  {
   "cell_type": "code",
   "execution_count": 26,
   "id": "75dce634",
   "metadata": {},
   "outputs": [],
   "source": [
    "# Testing dataset 1\n",
    "testing_dataset_1 = pd.read_csv(r'./waters_datasets/Cleaned_Datasets/testing_data_1.csv',\n",
    "    usecols=[\n",
    "        \"DO\",\"PH\",\"Conductivity\",\"BOD\",\"NI\",\"Fec_col\",\"Tot_col\",\"WQI\",\n",
    "    ]\n",
    ")[[\"DO\",\"PH\",\"Conductivity\",\"BOD\",\"NI\",\"Fec_col\",\"Tot_col\",\"WQI\"]]"
   ]
  },
  {
   "cell_type": "code",
   "execution_count": 27,
   "id": "11998212",
   "metadata": {},
   "outputs": [
    {
     "data": {
      "text/html": [
       "<div>\n",
       "<style scoped>\n",
       "    .dataframe tbody tr th:only-of-type {\n",
       "        vertical-align: middle;\n",
       "    }\n",
       "\n",
       "    .dataframe tbody tr th {\n",
       "        vertical-align: top;\n",
       "    }\n",
       "\n",
       "    .dataframe thead th {\n",
       "        text-align: right;\n",
       "    }\n",
       "</style>\n",
       "<table border=\"1\" class=\"dataframe\">\n",
       "  <thead>\n",
       "    <tr style=\"text-align: right;\">\n",
       "      <th></th>\n",
       "      <th>DO</th>\n",
       "      <th>PH</th>\n",
       "      <th>Conductivity</th>\n",
       "      <th>BOD</th>\n",
       "      <th>NI</th>\n",
       "      <th>Fec_col</th>\n",
       "      <th>Tot_col</th>\n",
       "      <th>WQI</th>\n",
       "    </tr>\n",
       "  </thead>\n",
       "  <tbody>\n",
       "    <tr>\n",
       "      <th>0</th>\n",
       "      <td>9.0</td>\n",
       "      <td>8.0</td>\n",
       "      <td>85.0</td>\n",
       "      <td>0.1</td>\n",
       "      <td>0.2</td>\n",
       "      <td>106.0</td>\n",
       "      <td>397.0</td>\n",
       "      <td>47.656576</td>\n",
       "    </tr>\n",
       "    <tr>\n",
       "      <th>1</th>\n",
       "      <td>9.0</td>\n",
       "      <td>8.0</td>\n",
       "      <td>102.0</td>\n",
       "      <td>0.3</td>\n",
       "      <td>0.4</td>\n",
       "      <td>153.0</td>\n",
       "      <td>954.0</td>\n",
       "      <td>50.613823</td>\n",
       "    </tr>\n",
       "    <tr>\n",
       "      <th>2</th>\n",
       "      <td>9.0</td>\n",
       "      <td>8.0</td>\n",
       "      <td>96.0</td>\n",
       "      <td>0.2</td>\n",
       "      <td>0.3</td>\n",
       "      <td>58.0</td>\n",
       "      <td>653.0</td>\n",
       "      <td>47.550650</td>\n",
       "    </tr>\n",
       "    <tr>\n",
       "      <th>3</th>\n",
       "      <td>9.0</td>\n",
       "      <td>8.0</td>\n",
       "      <td>94.0</td>\n",
       "      <td>0.2</td>\n",
       "      <td>0.4</td>\n",
       "      <td>34.0</td>\n",
       "      <td>317.0</td>\n",
       "      <td>46.956823</td>\n",
       "    </tr>\n",
       "    <tr>\n",
       "      <th>4</th>\n",
       "      <td>10.0</td>\n",
       "      <td>8.0</td>\n",
       "      <td>112.0</td>\n",
       "      <td>0.2</td>\n",
       "      <td>0.5</td>\n",
       "      <td>213.0</td>\n",
       "      <td>1072.0</td>\n",
       "      <td>46.282847</td>\n",
       "    </tr>\n",
       "  </tbody>\n",
       "</table>\n",
       "</div>"
      ],
      "text/plain": [
       "     DO   PH  Conductivity  BOD   NI  Fec_col  Tot_col        WQI\n",
       "0   9.0  8.0          85.0  0.1  0.2    106.0    397.0  47.656576\n",
       "1   9.0  8.0         102.0  0.3  0.4    153.0    954.0  50.613823\n",
       "2   9.0  8.0          96.0  0.2  0.3     58.0    653.0  47.550650\n",
       "3   9.0  8.0          94.0  0.2  0.4     34.0    317.0  46.956823\n",
       "4  10.0  8.0         112.0  0.2  0.5    213.0   1072.0  46.282847"
      ]
     },
     "execution_count": 27,
     "metadata": {},
     "output_type": "execute_result"
    }
   ],
   "source": [
    "testing_dataset_1.head()"
   ]
  },
  {
   "cell_type": "code",
   "execution_count": 28,
   "id": "656776e5",
   "metadata": {},
   "outputs": [],
   "source": [
    "# testing cloumns for x \n",
    "x_test_1 = testing_dataset_1[[\"DO\",\"PH\",\"Conductivity\",\"BOD\",\"NI\",\"Fec_col\",\"Tot_col\"]]"
   ]
  },
  {
   "cell_type": "code",
   "execution_count": 29,
   "id": "0a9ec362",
   "metadata": {},
   "outputs": [
    {
     "data": {
      "text/html": [
       "<div>\n",
       "<style scoped>\n",
       "    .dataframe tbody tr th:only-of-type {\n",
       "        vertical-align: middle;\n",
       "    }\n",
       "\n",
       "    .dataframe tbody tr th {\n",
       "        vertical-align: top;\n",
       "    }\n",
       "\n",
       "    .dataframe thead th {\n",
       "        text-align: right;\n",
       "    }\n",
       "</style>\n",
       "<table border=\"1\" class=\"dataframe\">\n",
       "  <thead>\n",
       "    <tr style=\"text-align: right;\">\n",
       "      <th></th>\n",
       "      <th>DO</th>\n",
       "      <th>PH</th>\n",
       "      <th>Conductivity</th>\n",
       "      <th>BOD</th>\n",
       "      <th>NI</th>\n",
       "      <th>Fec_col</th>\n",
       "      <th>Tot_col</th>\n",
       "    </tr>\n",
       "  </thead>\n",
       "  <tbody>\n",
       "    <tr>\n",
       "      <th>0</th>\n",
       "      <td>9.0</td>\n",
       "      <td>8.0</td>\n",
       "      <td>85.0</td>\n",
       "      <td>0.1</td>\n",
       "      <td>0.2</td>\n",
       "      <td>106.0</td>\n",
       "      <td>397.0</td>\n",
       "    </tr>\n",
       "    <tr>\n",
       "      <th>1</th>\n",
       "      <td>9.0</td>\n",
       "      <td>8.0</td>\n",
       "      <td>102.0</td>\n",
       "      <td>0.3</td>\n",
       "      <td>0.4</td>\n",
       "      <td>153.0</td>\n",
       "      <td>954.0</td>\n",
       "    </tr>\n",
       "    <tr>\n",
       "      <th>2</th>\n",
       "      <td>9.0</td>\n",
       "      <td>8.0</td>\n",
       "      <td>96.0</td>\n",
       "      <td>0.2</td>\n",
       "      <td>0.3</td>\n",
       "      <td>58.0</td>\n",
       "      <td>653.0</td>\n",
       "    </tr>\n",
       "    <tr>\n",
       "      <th>3</th>\n",
       "      <td>9.0</td>\n",
       "      <td>8.0</td>\n",
       "      <td>94.0</td>\n",
       "      <td>0.2</td>\n",
       "      <td>0.4</td>\n",
       "      <td>34.0</td>\n",
       "      <td>317.0</td>\n",
       "    </tr>\n",
       "    <tr>\n",
       "      <th>4</th>\n",
       "      <td>10.0</td>\n",
       "      <td>8.0</td>\n",
       "      <td>112.0</td>\n",
       "      <td>0.2</td>\n",
       "      <td>0.5</td>\n",
       "      <td>213.0</td>\n",
       "      <td>1072.0</td>\n",
       "    </tr>\n",
       "  </tbody>\n",
       "</table>\n",
       "</div>"
      ],
      "text/plain": [
       "     DO   PH  Conductivity  BOD   NI  Fec_col  Tot_col\n",
       "0   9.0  8.0          85.0  0.1  0.2    106.0    397.0\n",
       "1   9.0  8.0         102.0  0.3  0.4    153.0    954.0\n",
       "2   9.0  8.0          96.0  0.2  0.3     58.0    653.0\n",
       "3   9.0  8.0          94.0  0.2  0.4     34.0    317.0\n",
       "4  10.0  8.0         112.0  0.2  0.5    213.0   1072.0"
      ]
     },
     "execution_count": 29,
     "metadata": {},
     "output_type": "execute_result"
    }
   ],
   "source": [
    "x_test_1.head()"
   ]
  },
  {
   "cell_type": "code",
   "execution_count": 30,
   "id": "6b4b6afa",
   "metadata": {},
   "outputs": [],
   "source": [
    "# testing cloumns for y\n",
    "y_test_1 = y = testing_dataset_1[\"WQI\"]"
   ]
  },
  {
   "cell_type": "code",
   "execution_count": 31,
   "id": "10761ba9",
   "metadata": {},
   "outputs": [
    {
     "data": {
      "text/plain": [
       "0    47.656576\n",
       "1    50.613823\n",
       "2    47.550650\n",
       "3    46.956823\n",
       "4    46.282847\n",
       "Name: WQI, dtype: float64"
      ]
     },
     "execution_count": 31,
     "metadata": {},
     "output_type": "execute_result"
    }
   ],
   "source": [
    "y_test_1.head()"
   ]
  },
  {
   "cell_type": "code",
   "execution_count": null,
   "id": "2330c2bc",
   "metadata": {},
   "outputs": [],
   "source": []
  }
 ],
 "metadata": {
  "kernelspec": {
   "display_name": "Python 3 (ipykernel)",
   "language": "python",
   "name": "python3"
  },
  "language_info": {
   "codemirror_mode": {
    "name": "ipython",
    "version": 3
   },
   "file_extension": ".py",
   "mimetype": "text/x-python",
   "name": "python",
   "nbconvert_exporter": "python",
   "pygments_lexer": "ipython3",
   "version": "3.8.10"
  }
 },
 "nbformat": 4,
 "nbformat_minor": 5
}
