{
 "cells": [
  {
   "cell_type": "code",
   "execution_count": 1,
   "id": "aed2c130",
   "metadata": {},
   "outputs": [
    {
     "name": "stderr",
     "output_type": "stream",
     "text": [
      "2021-12-09 11:56:05.102817: W tensorflow/stream_executor/platform/default/dso_loader.cc:64] Could not load dynamic library 'libcudart.so.11.0'; dlerror: libcudart.so.11.0: cannot open shared object file: No such file or directory\n",
      "2021-12-09 11:56:05.102839: I tensorflow/stream_executor/cuda/cudart_stub.cc:29] Ignore above cudart dlerror if you do not have a GPU set up on your machine.\n"
     ]
    }
   ],
   "source": [
    "\n",
    "import tensorflow as tf\n",
    "from tensorflow import keras\n",
    "from tensorflow.keras import layers\n",
    "from tensorflow.keras.models import Sequential\n",
    "from tensorflow.keras.layers import Activation, Dense\n",
    "from tensorflow.keras.optimizers import Adam\n",
    "from tensorflow.keras.metrics import categorical_crossentropy"
   ]
  },
  {
   "cell_type": "code",
   "execution_count": 2,
   "id": "7efff838",
   "metadata": {},
   "outputs": [],
   "source": [
    "import pandas as pd\n",
    "import numpy as np\n",
    "from random import randint\n",
    "from sklearn.utils import shuffle\n",
    "from sklearn.preprocessing import MinMaxScaler\n",
    "from sklearn.model_selection import train_test_split\n",
    "import matplotlib.pyplot as plt\n",
    "from sklearn.metrics import mean_squared_error\n",
    "import keras_tuner as kt"
   ]
  },
  {
   "cell_type": "code",
   "execution_count": 3,
   "id": "b5404676",
   "metadata": {},
   "outputs": [],
   "source": [
    "train_labels = []\n",
    "train_samples = []"
   ]
  },
  {
   "cell_type": "code",
   "execution_count": 4,
   "id": "fcf174c4",
   "metadata": {},
   "outputs": [],
   "source": [
    "# read in the file\n",
    "training_dataset = pd.read_csv(\n",
    "    r'./waters_datasets/Cleaned_Datasets/Merged_Dataset_For_Trainging.csv',\n",
    "    usecols=[\n",
    "        \"DO\",\"PH\",\"Conductivity\",\"BOD\",\"NI\",\"Fec_col\",\"Tot_col\",\"WQI\"\n",
    "    ]\n",
    ")[[\"DO\",\"PH\",\"Conductivity\",\"BOD\",\"NI\",\"Fec_col\",\"Tot_col\",\"WQI\"]]\n",
    "\n",
    "x_train = training_dataset[[\"DO\",\"PH\",\"Conductivity\",\"BOD\",\"NI\",\"Fec_col\",\"Tot_col\"]]\n",
    "y_train = training_dataset[\"WQI\"]"
   ]
  },
  {
   "cell_type": "code",
   "execution_count": 5,
   "id": "1492b185",
   "metadata": {},
   "outputs": [
    {
     "data": {
      "text/html": [
       "<div>\n",
       "<style scoped>\n",
       "    .dataframe tbody tr th:only-of-type {\n",
       "        vertical-align: middle;\n",
       "    }\n",
       "\n",
       "    .dataframe tbody tr th {\n",
       "        vertical-align: top;\n",
       "    }\n",
       "\n",
       "    .dataframe thead th {\n",
       "        text-align: right;\n",
       "    }\n",
       "</style>\n",
       "<table border=\"1\" class=\"dataframe\">\n",
       "  <thead>\n",
       "    <tr style=\"text-align: right;\">\n",
       "      <th></th>\n",
       "      <th>DO</th>\n",
       "      <th>PH</th>\n",
       "      <th>Conductivity</th>\n",
       "      <th>BOD</th>\n",
       "      <th>NI</th>\n",
       "      <th>Fec_col</th>\n",
       "      <th>Tot_col</th>\n",
       "    </tr>\n",
       "  </thead>\n",
       "  <tbody>\n",
       "    <tr>\n",
       "      <th>0</th>\n",
       "      <td>6.6</td>\n",
       "      <td>6.5</td>\n",
       "      <td>748.0</td>\n",
       "      <td>1.4</td>\n",
       "      <td>7.0</td>\n",
       "      <td>18.0</td>\n",
       "      <td>12000.0</td>\n",
       "    </tr>\n",
       "    <tr>\n",
       "      <th>1</th>\n",
       "      <td>6.6</td>\n",
       "      <td>6.4</td>\n",
       "      <td>338.0</td>\n",
       "      <td>1.1</td>\n",
       "      <td>0.7</td>\n",
       "      <td>75.0</td>\n",
       "      <td>5500.0</td>\n",
       "    </tr>\n",
       "    <tr>\n",
       "      <th>2</th>\n",
       "      <td>6.6</td>\n",
       "      <td>7.0</td>\n",
       "      <td>333.0</td>\n",
       "      <td>1.4</td>\n",
       "      <td>0.5</td>\n",
       "      <td>0.0</td>\n",
       "      <td>91.0</td>\n",
       "    </tr>\n",
       "    <tr>\n",
       "      <th>3</th>\n",
       "      <td>6.6</td>\n",
       "      <td>5.7</td>\n",
       "      <td>791.0</td>\n",
       "      <td>1.9</td>\n",
       "      <td>0.3</td>\n",
       "      <td>0.0</td>\n",
       "      <td>46.0</td>\n",
       "    </tr>\n",
       "    <tr>\n",
       "      <th>4</th>\n",
       "      <td>6.6</td>\n",
       "      <td>7.0</td>\n",
       "      <td>510.0</td>\n",
       "      <td>2.2</td>\n",
       "      <td>3.1</td>\n",
       "      <td>54.0</td>\n",
       "      <td>3350.0</td>\n",
       "    </tr>\n",
       "  </tbody>\n",
       "</table>\n",
       "</div>"
      ],
      "text/plain": [
       "    DO   PH  Conductivity  BOD   NI  Fec_col  Tot_col\n",
       "0  6.6  6.5         748.0  1.4  7.0     18.0  12000.0\n",
       "1  6.6  6.4         338.0  1.1  0.7     75.0   5500.0\n",
       "2  6.6  7.0         333.0  1.4  0.5      0.0     91.0\n",
       "3  6.6  5.7         791.0  1.9  0.3      0.0     46.0\n",
       "4  6.6  7.0         510.0  2.2  3.1     54.0   3350.0"
      ]
     },
     "execution_count": 5,
     "metadata": {},
     "output_type": "execute_result"
    }
   ],
   "source": [
    "x_train.head()"
   ]
  },
  {
   "cell_type": "code",
   "execution_count": 6,
   "id": "0671d71a",
   "metadata": {},
   "outputs": [
    {
     "data": {
      "text/plain": [
       "0    46.167450\n",
       "1    40.826550\n",
       "2    51.027703\n",
       "3    32.954697\n",
       "4    60.342890\n",
       "Name: WQI, dtype: float64"
      ]
     },
     "execution_count": 6,
     "metadata": {},
     "output_type": "execute_result"
    }
   ],
   "source": [
    "y_train.head()"
   ]
  },
  {
   "cell_type": "code",
   "execution_count": 7,
   "id": "37aa5c1d",
   "metadata": {},
   "outputs": [],
   "source": [
    "# Testing dataset 1\n",
    "testing_dataset_1 = pd.read_csv(r'./waters_datasets/Cleaned_Datasets/testing_data_1.csv',\n",
    "    usecols=[\n",
    "        \"DO\",\"PH\",\"Conductivity\",\"BOD\",\"NI\",\"Fec_col\",\"Tot_col\",\"WQI\",\n",
    "    ]\n",
    ")[[\"DO\",\"PH\",\"Conductivity\",\"BOD\",\"NI\",\"Fec_col\",\"Tot_col\",\"WQI\"]]\n",
    "\n",
    "# testing cloumns for x \n",
    "x_test_1 = testing_dataset_1[[\"DO\",\"PH\",\"Conductivity\",\"BOD\",\"NI\",\"Fec_col\",\"Tot_col\"]]\n",
    "\n",
    "# testing cloumns for y\n",
    "y_test_1 = testing_dataset_1[\"WQI\"]"
   ]
  },
  {
   "cell_type": "code",
   "execution_count": 8,
   "id": "5c5bf925",
   "metadata": {},
   "outputs": [],
   "source": [
    "#Use the hp argument to define the hyperparameters during model creation.\n",
    "def build_model(hp):\n",
    "    model = keras.Sequential()\n",
    "    model.add(keras.layers.Dense(\n",
    "        hp.Choice('units', [8, 16, 32, 64, 128, 256, 512]),\n",
    "        activation='relu'))\n",
    "    model.add(keras.layers.Dense(\n",
    "      hp.Choice('units', [8, 16, 32, 64, 128, 256, 512]),\n",
    "      activation='relu'))\n",
    "    model.add(keras.layers.Dense(\n",
    "      hp.Choice('units', [8, 16, 32, 64, 128, 256, 512]),\n",
    "      activation='relu'))\n",
    "    model.add(keras.layers.Dense(\n",
    "      hp.Choice('units', [8, 16, 32, 64, 128, 256,  512]),\n",
    "      activation='relu'))\n",
    "    model.add(keras.layers.Dense(\n",
    "      hp.Choice('units', [8, 16, 32, 64, 128, 256, 512]),\n",
    "      activation='relu'))\n",
    "   \n",
    "    model.add(keras.layers.Dense(1, activation='linear'))\n",
    "    model.compile(loss='mse')\n",
    "    return model"
   ]
  },
  {
   "cell_type": "code",
   "execution_count": 9,
   "id": "789105a0",
   "metadata": {},
   "outputs": [],
   "source": [
    "# physical_devices = tf.config.experimental.list_physical_devices('GPU')\n"
   ]
  },
  {
   "cell_type": "code",
   "execution_count": 10,
   "id": "56d7db11",
   "metadata": {},
   "outputs": [
    {
     "name": "stdout",
     "output_type": "stream",
     "text": [
      "INFO:tensorflow:Reloading Oracle from existing project ./untitled_project/oracle.json\n",
      "INFO:tensorflow:Reloading Tuner from ./untitled_project/tuner0.json\n",
      "INFO:tensorflow:Oracle triggered exit\n"
     ]
    },
    {
     "name": "stderr",
     "output_type": "stream",
     "text": [
      "2021-12-09 11:51:37.520384: W tensorflow/stream_executor/platform/default/dso_loader.cc:64] Could not load dynamic library 'libcudart.so.11.0'; dlerror: libcudart.so.11.0: cannot open shared object file: No such file or directory\n",
      "2021-12-09 11:51:37.520527: W tensorflow/stream_executor/platform/default/dso_loader.cc:64] Could not load dynamic library 'libcublas.so.11'; dlerror: libcublas.so.11: cannot open shared object file: No such file or directory\n",
      "2021-12-09 11:51:37.520638: W tensorflow/stream_executor/platform/default/dso_loader.cc:64] Could not load dynamic library 'libcublasLt.so.11'; dlerror: libcublasLt.so.11: cannot open shared object file: No such file or directory\n",
      "2021-12-09 11:51:37.520746: W tensorflow/stream_executor/platform/default/dso_loader.cc:64] Could not load dynamic library 'libcufft.so.10'; dlerror: libcufft.so.10: cannot open shared object file: No such file or directory\n",
      "2021-12-09 11:51:37.520854: W tensorflow/stream_executor/platform/default/dso_loader.cc:64] Could not load dynamic library 'libcurand.so.10'; dlerror: libcurand.so.10: cannot open shared object file: No such file or directory\n",
      "2021-12-09 11:51:37.520960: W tensorflow/stream_executor/platform/default/dso_loader.cc:64] Could not load dynamic library 'libcusolver.so.11'; dlerror: libcusolver.so.11: cannot open shared object file: No such file or directory\n",
      "2021-12-09 11:51:37.521065: W tensorflow/stream_executor/platform/default/dso_loader.cc:64] Could not load dynamic library 'libcusparse.so.11'; dlerror: libcusparse.so.11: cannot open shared object file: No such file or directory\n",
      "2021-12-09 11:51:37.521171: W tensorflow/stream_executor/platform/default/dso_loader.cc:64] Could not load dynamic library 'libcudnn.so.8'; dlerror: libcudnn.so.8: cannot open shared object file: No such file or directory\n",
      "2021-12-09 11:51:37.521189: W tensorflow/core/common_runtime/gpu/gpu_device.cc:1850] Cannot dlopen some GPU libraries. Please make sure the missing libraries mentioned above are installed properly if you would like to use GPU. Follow the guide at https://www.tensorflow.org/install/gpu for how to download and setup the required libraries for your platform.\n",
      "Skipping registering GPU devices...\n",
      "2021-12-09 11:51:37.521743: I tensorflow/core/platform/cpu_feature_guard.cc:151] This TensorFlow binary is optimized with oneAPI Deep Neural Network Library (oneDNN) to use the following CPU instructions in performance-critical operations:  AVX2 AVX512F FMA\n",
      "To enable them in other operations, rebuild TensorFlow with the appropriate compiler flags.\n"
     ]
    }
   ],
   "source": [
    "#add hyperparameter tuner\n",
    "tuner = kt.RandomSearch(\n",
    "    build_model,\n",
    "    objective='val_loss',\n",
    "    max_trials=20)\n",
    "\n",
    "tuner.search(x_train, y_train, epochs=500, validation_data=(x_test_1, y_test_1))\n",
    "model = tuner.get_best_models()[0]"
   ]
  },
  {
   "cell_type": "code",
   "execution_count": 11,
   "id": "a6a66553",
   "metadata": {},
   "outputs": [],
   "source": [
    "prediction = model.predict(x_test_1)"
   ]
  },
  {
   "cell_type": "code",
   "execution_count": 12,
   "id": "7f79b6b2",
   "metadata": {},
   "outputs": [],
   "source": [
    "np.savetxt(\"foo.csv\", prediction)"
   ]
  },
  {
   "cell_type": "code",
   "execution_count": 13,
   "id": "56bbdcbe",
   "metadata": {},
   "outputs": [
    {
     "name": "stdout",
     "output_type": "stream",
     "text": [
      "RMSE:  12.109018484297001\n"
     ]
    }
   ],
   "source": [
    "#Root mean square error\n",
    "rmse = np.sqrt(mean_squared_error(y_test_1, prediction, squared=False))\n",
    "print(\"RMSE: \", rmse)"
   ]
  },
  {
   "cell_type": "code",
   "execution_count": null,
   "id": "2372b8a2",
   "metadata": {},
   "outputs": [],
   "source": []
  }
 ],
 "metadata": {
  "kernelspec": {
   "display_name": "Python 3 (ipykernel)",
   "language": "python",
   "name": "python3"
  },
  "language_info": {
   "codemirror_mode": {
    "name": "ipython",
    "version": 3
   },
   "file_extension": ".py",
   "mimetype": "text/x-python",
   "name": "python",
   "nbconvert_exporter": "python",
   "pygments_lexer": "ipython3",
   "version": "3.8.10"
  }
 },
 "nbformat": 4,
 "nbformat_minor": 5
}
