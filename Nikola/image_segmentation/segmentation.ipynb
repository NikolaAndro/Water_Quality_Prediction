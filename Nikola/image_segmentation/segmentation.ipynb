{
 "cells": [
  {
   "cell_type": "code",
   "execution_count": 1,
   "id": "d60eab7f",
   "metadata": {},
   "outputs": [],
   "source": [
    "# import the cv2 library\n",
    "import cv2"
   ]
  },
  {
   "cell_type": "code",
   "execution_count": 2,
   "id": "b410e8da",
   "metadata": {},
   "outputs": [],
   "source": [
    "# Load images in colored and not colored manner\n",
    "img_color = cv2.imread('../images_of_india/2.png',1)\n",
    "img_grayscale = cv2.imread('../images_of_india/2.png',0)"
   ]
  },
  {
   "cell_type": "code",
   "execution_count": null,
   "id": "9d39d246",
   "metadata": {},
   "outputs": [],
   "source": [
    "#Display the images\n",
    "#Displays image inside a window\n",
    "#cv2.imshow('color image',img_color) \n",
    "cv2.imshow('grayscale image',img_grayscale)\n",
    "\n",
    "# Waits for a keystroke\n",
    "cv2.waitKey(0) \n",
    "\n",
    "# Destroys all the windows created\n",
    "cv2.destroyALLwindows()\n"
   ]
  },
  {
   "cell_type": "code",
   "execution_count": null,
   "id": "999e33f6",
   "metadata": {},
   "outputs": [],
   "source": []
  }
 ],
 "metadata": {
  "kernelspec": {
   "display_name": "Python 3 (ipykernel)",
   "language": "python",
   "name": "python3"
  },
  "language_info": {
   "codemirror_mode": {
    "name": "ipython",
    "version": 3
   },
   "file_extension": ".py",
   "mimetype": "text/x-python",
   "name": "python",
   "nbconvert_exporter": "python",
   "pygments_lexer": "ipython3",
   "version": "3.8.10"
  }
 },
 "nbformat": 4,
 "nbformat_minor": 5
}
