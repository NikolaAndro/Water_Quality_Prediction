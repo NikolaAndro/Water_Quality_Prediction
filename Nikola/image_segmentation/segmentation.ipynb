{
 "cells": [
  {
   "cell_type": "code",
   "execution_count": 1,
   "id": "d60eab7f",
   "metadata": {},
   "outputs": [],
   "source": [
    "# import the cv2 library\n",
    "import cv2"
   ]
  },
  {
   "cell_type": "code",
   "execution_count": 2,
   "id": "b410e8da",
   "metadata": {},
   "outputs": [],
   "source": [
    "# Load images in colored and not colored manner\n",
    "img_color = cv2.imread('../images_of_india/final_map.png')\n",
    "#img_grayscale = cv2.imread('../images_of_india/final_map.png',0)"
   ]
  },
  {
   "cell_type": "code",
   "execution_count": 3,
   "id": "9d39d246",
   "metadata": {},
   "outputs": [],
   "source": [
    "#Display the images\n",
    "#Displays image inside a window\n",
    "#cv2.imshow('color image',img_color) \n",
    "# cv2.imshow('grayscale image',img_color)\n",
    "\n",
    "# # Waits for a keystroke\n",
    "# cv2.waitKey(0) \n",
    "\n",
    "# # Destroys all the windows created\n",
    "# cv2.destroyALLwindows()\n"
   ]
  },
  {
   "cell_type": "code",
   "execution_count": 4,
   "id": "999e33f6",
   "metadata": {},
   "outputs": [],
   "source": [
    "import matplotlib\n",
    "import matplotlib.pyplot as plt\n",
    "# import geopandas as gpd\n",
    "# import plotly.express as px\n",
    "import pandas as pd"
   ]
  },
  {
   "cell_type": "code",
   "execution_count": 5,
   "id": "6f0cf4f3",
   "metadata": {},
   "outputs": [],
   "source": [
    "stations_path = (\"./dataset_with_long_lat.csv\")"
   ]
  },
  {
   "cell_type": "code",
   "execution_count": 6,
   "id": "647f62b9",
   "metadata": {},
   "outputs": [],
   "source": [
    "df = pd.read_csv(stations_path)"
   ]
  },
  {
   "cell_type": "code",
   "execution_count": 7,
   "id": "2dd9a9d3",
   "metadata": {},
   "outputs": [
    {
     "data": {
      "text/html": [
       "<div>\n",
       "<style scoped>\n",
       "    .dataframe tbody tr th:only-of-type {\n",
       "        vertical-align: middle;\n",
       "    }\n",
       "\n",
       "    .dataframe tbody tr th {\n",
       "        vertical-align: top;\n",
       "    }\n",
       "\n",
       "    .dataframe thead th {\n",
       "        text-align: right;\n",
       "    }\n",
       "</style>\n",
       "<table border=\"1\" class=\"dataframe\">\n",
       "  <thead>\n",
       "    <tr style=\"text-align: right;\">\n",
       "      <th></th>\n",
       "      <th>S.Code</th>\n",
       "      <th>WQI clf</th>\n",
       "      <th>latitude</th>\n",
       "      <th>longitude</th>\n",
       "    </tr>\n",
       "  </thead>\n",
       "  <tbody>\n",
       "    <tr>\n",
       "      <th>0</th>\n",
       "      <td>1533</td>\n",
       "      <td>2</td>\n",
       "      <td>27.396089</td>\n",
       "      <td>95.631783</td>\n",
       "    </tr>\n",
       "    <tr>\n",
       "      <th>1</th>\n",
       "      <td>1534</td>\n",
       "      <td>2</td>\n",
       "      <td>26.105415</td>\n",
       "      <td>93.113917</td>\n",
       "    </tr>\n",
       "    <tr>\n",
       "      <th>2</th>\n",
       "      <td>1535</td>\n",
       "      <td>1</td>\n",
       "      <td>26.980000</td>\n",
       "      <td>94.630000</td>\n",
       "    </tr>\n",
       "    <tr>\n",
       "      <th>3</th>\n",
       "      <td>1536</td>\n",
       "      <td>2</td>\n",
       "      <td>26.979722</td>\n",
       "      <td>94.632211</td>\n",
       "    </tr>\n",
       "    <tr>\n",
       "      <th>4</th>\n",
       "      <td>1537</td>\n",
       "      <td>1</td>\n",
       "      <td>26.750143</td>\n",
       "      <td>94.219855</td>\n",
       "    </tr>\n",
       "    <tr>\n",
       "      <th>...</th>\n",
       "      <td>...</td>\n",
       "      <td>...</td>\n",
       "      <td>...</td>\n",
       "      <td>...</td>\n",
       "    </tr>\n",
       "    <tr>\n",
       "      <th>1126</th>\n",
       "      <td>2238</td>\n",
       "      <td>2</td>\n",
       "      <td>26.493169</td>\n",
       "      <td>90.917841</td>\n",
       "    </tr>\n",
       "    <tr>\n",
       "      <th>1127</th>\n",
       "      <td>2239</td>\n",
       "      <td>1</td>\n",
       "      <td>26.311379</td>\n",
       "      <td>89.831334</td>\n",
       "    </tr>\n",
       "    <tr>\n",
       "      <th>1128</th>\n",
       "      <td>2240</td>\n",
       "      <td>1</td>\n",
       "      <td>24.786736</td>\n",
       "      <td>92.813553</td>\n",
       "    </tr>\n",
       "    <tr>\n",
       "      <th>1129</th>\n",
       "      <td>2241</td>\n",
       "      <td>2</td>\n",
       "      <td>24.735544</td>\n",
       "      <td>92.889269</td>\n",
       "    </tr>\n",
       "    <tr>\n",
       "      <th>1130</th>\n",
       "      <td>2242</td>\n",
       "      <td>2</td>\n",
       "      <td>24.870906</td>\n",
       "      <td>92.376439</td>\n",
       "    </tr>\n",
       "  </tbody>\n",
       "</table>\n",
       "<p>1131 rows × 4 columns</p>\n",
       "</div>"
      ],
      "text/plain": [
       "      S.Code  WQI clf   latitude  longitude\n",
       "0       1533        2  27.396089  95.631783\n",
       "1       1534        2  26.105415  93.113917\n",
       "2       1535        1  26.980000  94.630000\n",
       "3       1536        2  26.979722  94.632211\n",
       "4       1537        1  26.750143  94.219855\n",
       "...      ...      ...        ...        ...\n",
       "1126    2238        2  26.493169  90.917841\n",
       "1127    2239        1  26.311379  89.831334\n",
       "1128    2240        1  24.786736  92.813553\n",
       "1129    2241        2  24.735544  92.889269\n",
       "1130    2242        2  24.870906  92.376439\n",
       "\n",
       "[1131 rows x 4 columns]"
      ]
     },
     "execution_count": 7,
     "metadata": {},
     "output_type": "execute_result"
    }
   ],
   "source": [
    "df"
   ]
  },
  {
   "cell_type": "code",
   "execution_count": 8,
   "id": "5eb25ec7",
   "metadata": {},
   "outputs": [],
   "source": [
    "#image information\n",
    "#longitude is vertical.. However, longitudes change horizontaly!\n",
    "min_latitude = 8.0590000\n",
    "max_latitude = 35.8530000\n",
    "\n",
    "min_longitude = 67.9390000\n",
    "max_longitude = 97.3830000"
   ]
  },
  {
   "cell_type": "code",
   "execution_count": 9,
   "id": "af6270a8",
   "metadata": {
    "scrolled": true
   },
   "outputs": [
    {
     "name": "stdout",
     "output_type": "stream",
     "text": [
      "27.794000000000004\n",
      "29.444000000000003\n"
     ]
    }
   ],
   "source": [
    "real_latitude_span = max_latitude - min_latitude\n",
    "real_longitude_span = max_longitude - min_longitude\n",
    "\n",
    "print(real_latitude_span)\n",
    "print(real_longitude_span)"
   ]
  },
  {
   "cell_type": "code",
   "execution_count": 10,
   "id": "bd593d36",
   "metadata": {},
   "outputs": [],
   "source": [
    "max_x_pixel_lat = 672\n",
    "max_y_pixel_long = 692"
   ]
  },
  {
   "cell_type": "code",
   "execution_count": null,
   "id": "1e46a8d0",
   "metadata": {},
   "outputs": [],
   "source": []
  },
  {
   "cell_type": "code",
   "execution_count": null,
   "id": "b89e1fb0",
   "metadata": {},
   "outputs": [],
   "source": []
  },
  {
   "cell_type": "code",
   "execution_count": 11,
   "id": "d462ae57",
   "metadata": {},
   "outputs": [],
   "source": [
    "latitude_1, longitude_1 = 27.396089, 95.631783"
   ]
  },
  {
   "cell_type": "code",
   "execution_count": 12,
   "id": "89fd35a6",
   "metadata": {},
   "outputs": [
    {
     "name": "stdout",
     "output_type": "stream",
     "text": [
      "19.337089\n",
      "27.692783000000006\n"
     ]
    }
   ],
   "source": [
    "latitude_1 = latitude_1 - min_latitude \n",
    "longitude_1 = longitude_1 - min_longitude \n",
    "print(latitude_1)\n",
    "print(longitude_1)"
   ]
  },
  {
   "cell_type": "code",
   "execution_count": 13,
   "id": "f5d8a37c",
   "metadata": {},
   "outputs": [
    {
     "data": {
      "text/plain": [
       "0.041360119047619055"
      ]
     },
     "execution_count": 13,
     "metadata": {},
     "output_type": "execute_result"
    }
   ],
   "source": [
    "#the amount of latitude one pixel covers\n",
    "one_pixel_latitude = real_latitude_span/max_x_pixel_lat\n",
    "one_pixel_latitude"
   ]
  },
  {
   "cell_type": "code",
   "execution_count": 14,
   "id": "36e60ca3",
   "metadata": {},
   "outputs": [
    {
     "name": "stdout",
     "output_type": "stream",
     "text": [
      "29.444000000000003\n",
      "692\n",
      "0.04254913294797688\n"
     ]
    }
   ],
   "source": [
    "#the amount of longitude one pixel covers\n",
    "one_pixel_longitude = real_longitude_span/max_y_pixel_long\n",
    "print(real_longitude_span)\n",
    "print(max_y_pixel_long)\n",
    "print(one_pixel_longitude)"
   ]
  },
  {
   "cell_type": "code",
   "execution_count": 15,
   "id": "e6585cac",
   "metadata": {},
   "outputs": [
    {
     "data": {
      "text/plain": [
       "21.400999999999996"
      ]
     },
     "execution_count": 15,
     "metadata": {},
     "output_type": "execute_result"
    }
   ],
   "source": [
    "0.030099859353023905 * 711"
   ]
  },
  {
   "cell_type": "code",
   "execution_count": 16,
   "id": "20392068",
   "metadata": {},
   "outputs": [
    {
     "data": {
      "text/plain": [
       "467.52981967331067"
      ]
     },
     "execution_count": 16,
     "metadata": {},
     "output_type": "execute_result"
    }
   ],
   "source": [
    "#find what pixels need to color\n",
    "lat = latitude_1 / one_pixel_latitude\n",
    "lat"
   ]
  },
  {
   "cell_type": "code",
   "execution_count": 17,
   "id": "b5f11ea9",
   "metadata": {},
   "outputs": [
    {
     "name": "stdout",
     "output_type": "stream",
     "text": [
      "27.692783000000006\n"
     ]
    },
    {
     "data": {
      "text/plain": [
       "650.8424750713219"
      ]
     },
     "execution_count": 17,
     "metadata": {},
     "output_type": "execute_result"
    }
   ],
   "source": [
    "print(longitude_1)\n",
    "long = longitude_1 /one_pixel_longitude\n",
    "long"
   ]
  },
  {
   "cell_type": "code",
   "execution_count": 18,
   "id": "e1c47316",
   "metadata": {},
   "outputs": [
    {
     "name": "stdout",
     "output_type": "stream",
     "text": [
      "uint8\n"
     ]
    }
   ],
   "source": [
    "\n",
    "print(img_color.dtype)\n"
   ]
  },
  {
   "cell_type": "code",
   "execution_count": 19,
   "id": "3280f41d",
   "metadata": {},
   "outputs": [],
   "source": [
    "par1 = int(lat)\n"
   ]
  },
  {
   "cell_type": "code",
   "execution_count": 20,
   "id": "373c4c94",
   "metadata": {},
   "outputs": [],
   "source": [
    "par2 = int(long)"
   ]
  },
  {
   "cell_type": "code",
   "execution_count": 21,
   "id": "187bd164",
   "metadata": {},
   "outputs": [],
   "source": [
    "par2 = int(long)"
   ]
  },
  {
   "cell_type": "code",
   "execution_count": 22,
   "id": "f2461bff",
   "metadata": {},
   "outputs": [],
   "source": [
    "# parameters (y,x)\n",
    "# img_color[692-par2,par1:(par1+5)] = (0,0,255)\n",
    "img_color[692-par1,par2:(par2+5)] = (0,0,255)"
   ]
  },
  {
   "cell_type": "code",
   "execution_count": null,
   "id": "cf74cebe",
   "metadata": {},
   "outputs": [],
   "source": [
    "cv2.imshow('grayscale imagesa',img_color)\n",
    "\n",
    "# Waits for a keystroke\n",
    "cv2.waitKey(0) \n",
    "\n",
    "# Destroys all the windows created\n",
    "cv2.destroyALLwindows()\n"
   ]
  },
  {
   "cell_type": "code",
   "execution_count": null,
   "id": "ba04e057",
   "metadata": {},
   "outputs": [],
   "source": []
  }
 ],
 "metadata": {
  "kernelspec": {
   "display_name": "Python 3 (ipykernel)",
   "language": "python",
   "name": "python3"
  },
  "language_info": {
   "codemirror_mode": {
    "name": "ipython",
    "version": 3
   },
   "file_extension": ".py",
   "mimetype": "text/x-python",
   "name": "python",
   "nbconvert_exporter": "python",
   "pygments_lexer": "ipython3",
   "version": "3.8.10"
  }
 },
 "nbformat": 4,
 "nbformat_minor": 5
}
