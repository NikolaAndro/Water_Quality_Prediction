{
 "cells": [
  {
   "cell_type": "code",
   "execution_count": 2,
   "id": "d60eab7f",
   "metadata": {},
   "outputs": [],
   "source": [
    "# import the cv2 library\n",
    "import cv2"
   ]
  },
  {
   "cell_type": "code",
   "execution_count": 2,
   "id": "75f8c284",
   "metadata": {},
   "outputs": [
    {
     "name": "stdout",
     "output_type": "stream",
     "text": [
      "Requirement already satisfied: opencv-python in /home/nikola/water_quality_project/water_q_env/lib/python3.7/site-packages (4.5.4.58)\r\n",
      "Requirement already satisfied: numpy>=1.14.5 in /home/nikola/water_quality_project/water_q_env/lib/python3.7/site-packages (from opencv-python) (1.21.3)\r\n"
     ]
    }
   ],
   "source": [
    "!pip install opencv-python"
   ]
  },
  {
   "cell_type": "code",
   "execution_count": 3,
   "id": "b410e8da",
   "metadata": {},
   "outputs": [],
   "source": [
    "# Load images in colored and not colored manner\n",
    "img_color = cv2.imread('../images_of_india/2.png',1)\n",
    "img_grayscale = cv2.imread('../images_of_india/2.png',0)"
   ]
  },
  {
   "cell_type": "code",
   "execution_count": 4,
   "id": "9d39d246",
   "metadata": {},
   "outputs": [
    {
     "ename": "AttributeError",
     "evalue": "module 'cv2' has no attribute 'destroyALLwindows'",
     "output_type": "error",
     "traceback": [
      "\u001b[0;31m---------------------------------------------------------------------------\u001b[0m",
      "\u001b[0;31mAttributeError\u001b[0m                            Traceback (most recent call last)",
      "\u001b[0;32m/tmp/ipykernel_11381/2563118107.py\u001b[0m in \u001b[0;36m<module>\u001b[0;34m\u001b[0m\n\u001b[1;32m      8\u001b[0m \u001b[0;34m\u001b[0m\u001b[0m\n\u001b[1;32m      9\u001b[0m \u001b[0;31m# Destroys all the windows created\u001b[0m\u001b[0;34m\u001b[0m\u001b[0;34m\u001b[0m\u001b[0;34m\u001b[0m\u001b[0m\n\u001b[0;32m---> 10\u001b[0;31m \u001b[0mcv2\u001b[0m\u001b[0;34m.\u001b[0m\u001b[0mdestroyALLwindows\u001b[0m\u001b[0;34m(\u001b[0m\u001b[0;34m)\u001b[0m\u001b[0;34m\u001b[0m\u001b[0;34m\u001b[0m\u001b[0m\n\u001b[0m",
      "\u001b[0;31mAttributeError\u001b[0m: module 'cv2' has no attribute 'destroyALLwindows'"
     ]
    }
   ],
   "source": [
    "#Display the images\n",
    "#Displays image inside a window\n",
    "cv2.imshow('color image',img_color) \n",
    "cv2.imshow('grayscale image',img_grayscale)\n",
    "\n",
    "# Waits for a keystroke\n",
    "cv2.waitKey(0) \n",
    "\n",
    "# Destroys all the windows created\n",
    "cv2.destroyALLwindows()\n"
   ]
  },
  {
   "cell_type": "code",
   "execution_count": null,
   "id": "999e33f6",
   "metadata": {},
   "outputs": [],
   "source": []
  }
 ],
 "metadata": {
  "kernelspec": {
   "display_name": "Python 3 (ipykernel)",
   "language": "python",
   "name": "python3"
  },
  "language_info": {
   "codemirror_mode": {
    "name": "ipython",
    "version": 3
   },
   "file_extension": ".py",
   "mimetype": "text/x-python",
   "name": "python",
   "nbconvert_exporter": "python",
   "pygments_lexer": "ipython3",
   "version": "3.7.3"
  }
 },
 "nbformat": 4,
 "nbformat_minor": 5
}
