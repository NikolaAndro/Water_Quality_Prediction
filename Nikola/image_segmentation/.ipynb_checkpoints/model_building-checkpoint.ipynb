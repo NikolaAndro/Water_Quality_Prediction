{
 "cells": [
  {
   "cell_type": "code",
   "execution_count": 1,
   "metadata": {
    "id": "r_D0y5rwbCiz"
   },
   "outputs": [],
   "source": [
    "import pandas as pd\n",
    "import numpy as np\n",
    "import matplotlib.pyplot as plt\n",
    "import seaborn as sns\n",
    "import warnings\n",
    "warnings.filterwarnings('ignore')\n",
    "sns.set_style('whitegrid')"
   ]
  },
  {
   "cell_type": "markdown",
   "metadata": {
    "id": "TZyOG1htj2FI"
   },
   "source": [
    "### **Data Exploration**"
   ]
  },
  {
   "cell_type": "code",
   "execution_count": 4,
   "metadata": {
    "id": "SoFkW3bsbMHY"
   },
   "outputs": [],
   "source": [
    "df = pd.read_csv(\"../waters_datasets/Merged_Dataset_For_Trainging.csv\")\n",
    "df.drop('Unnamed: 0', axis=1, inplace=True)"
   ]
  },
  {
   "cell_type": "code",
   "execution_count": 5,
   "metadata": {
    "colab": {
     "base_uri": "https://localhost:8080/",
     "height": 206
    },
    "id": "obW6qDo0bScc",
    "outputId": "ccd24896-7e85-4ac7-8b5f-e8caa7b38959"
   },
   "outputs": [
    {
     "data": {
      "text/html": [
       "<div>\n",
       "<style scoped>\n",
       "    .dataframe tbody tr th:only-of-type {\n",
       "        vertical-align: middle;\n",
       "    }\n",
       "\n",
       "    .dataframe tbody tr th {\n",
       "        vertical-align: top;\n",
       "    }\n",
       "\n",
       "    .dataframe thead th {\n",
       "        text-align: right;\n",
       "    }\n",
       "</style>\n",
       "<table border=\"1\" class=\"dataframe\">\n",
       "  <thead>\n",
       "    <tr style=\"text-align: right;\">\n",
       "      <th></th>\n",
       "      <th>STATION CODE</th>\n",
       "      <th>LOCATIONS</th>\n",
       "      <th>STATE</th>\n",
       "      <th>Temp</th>\n",
       "      <th>DO</th>\n",
       "      <th>PH</th>\n",
       "      <th>Conductivity</th>\n",
       "      <th>BOD</th>\n",
       "      <th>NI</th>\n",
       "      <th>Fec_col</th>\n",
       "      <th>Tot_col</th>\n",
       "      <th>WQI</th>\n",
       "      <th>WQI clf</th>\n",
       "    </tr>\n",
       "  </thead>\n",
       "  <tbody>\n",
       "    <tr>\n",
       "      <th>0</th>\n",
       "      <td>1533.0</td>\n",
       "      <td>*DIGBOI, TINSUKIA DISTT.,Â Â ASSAM</td>\n",
       "      <td>Assam</td>\n",
       "      <td>23.5</td>\n",
       "      <td>6.6</td>\n",
       "      <td>6.5</td>\n",
       "      <td>748.0</td>\n",
       "      <td>1.4</td>\n",
       "      <td>7.0</td>\n",
       "      <td>18.0</td>\n",
       "      <td>12000.0</td>\n",
       "      <td>46.167450</td>\n",
       "      <td>2</td>\n",
       "    </tr>\n",
       "    <tr>\n",
       "      <th>1</th>\n",
       "      <td>1534.0</td>\n",
       "      <td>*KARBIÂ Â ANGLONG DISTT., ASSAM</td>\n",
       "      <td>Assam</td>\n",
       "      <td>23.5</td>\n",
       "      <td>6.6</td>\n",
       "      <td>6.4</td>\n",
       "      <td>338.0</td>\n",
       "      <td>1.1</td>\n",
       "      <td>0.7</td>\n",
       "      <td>75.0</td>\n",
       "      <td>5500.0</td>\n",
       "      <td>40.826550</td>\n",
       "      <td>2</td>\n",
       "    </tr>\n",
       "    <tr>\n",
       "      <th>2</th>\n",
       "      <td>1535.0</td>\n",
       "      <td>*SIBSAGAR , ASSAM</td>\n",
       "      <td>Assam</td>\n",
       "      <td>24.5</td>\n",
       "      <td>6.6</td>\n",
       "      <td>7.0</td>\n",
       "      <td>333.0</td>\n",
       "      <td>1.4</td>\n",
       "      <td>0.5</td>\n",
       "      <td>0.0</td>\n",
       "      <td>91.0</td>\n",
       "      <td>51.027703</td>\n",
       "      <td>1</td>\n",
       "    </tr>\n",
       "    <tr>\n",
       "      <th>3</th>\n",
       "      <td>1536.0</td>\n",
       "      <td>*SIBSAGAR, ASSAM</td>\n",
       "      <td>Assam</td>\n",
       "      <td>22.5</td>\n",
       "      <td>6.6</td>\n",
       "      <td>5.7</td>\n",
       "      <td>791.0</td>\n",
       "      <td>1.9</td>\n",
       "      <td>0.3</td>\n",
       "      <td>0.0</td>\n",
       "      <td>46.0</td>\n",
       "      <td>32.954697</td>\n",
       "      <td>2</td>\n",
       "    </tr>\n",
       "    <tr>\n",
       "      <th>4</th>\n",
       "      <td>1537.0</td>\n",
       "      <td>*(JORHAT, ASSAM</td>\n",
       "      <td>Assam</td>\n",
       "      <td>24.5</td>\n",
       "      <td>6.6</td>\n",
       "      <td>7.0</td>\n",
       "      <td>510.0</td>\n",
       "      <td>2.2</td>\n",
       "      <td>3.1</td>\n",
       "      <td>54.0</td>\n",
       "      <td>3350.0</td>\n",
       "      <td>60.342890</td>\n",
       "      <td>1</td>\n",
       "    </tr>\n",
       "  </tbody>\n",
       "</table>\n",
       "</div>"
      ],
      "text/plain": [
       "   STATION CODE                           LOCATIONS  STATE  Temp   DO   PH  \\\n",
       "0        1533.0  *DIGBOI, TINSUKIA DISTT.,Â Â ASSAM  Assam  23.5  6.6  6.5   \n",
       "1        1534.0     *KARBIÂ Â ANGLONG DISTT., ASSAM  Assam  23.5  6.6  6.4   \n",
       "2        1535.0                   *SIBSAGAR , ASSAM  Assam  24.5  6.6  7.0   \n",
       "3        1536.0                    *SIBSAGAR, ASSAM  Assam  22.5  6.6  5.7   \n",
       "4        1537.0                     *(JORHAT, ASSAM  Assam  24.5  6.6  7.0   \n",
       "\n",
       "   Conductivity  BOD   NI  Fec_col  Tot_col        WQI  WQI clf  \n",
       "0         748.0  1.4  7.0     18.0  12000.0  46.167450        2  \n",
       "1         338.0  1.1  0.7     75.0   5500.0  40.826550        2  \n",
       "2         333.0  1.4  0.5      0.0     91.0  51.027703        1  \n",
       "3         791.0  1.9  0.3      0.0     46.0  32.954697        2  \n",
       "4         510.0  2.2  3.1     54.0   3350.0  60.342890        1  "
      ]
     },
     "execution_count": 5,
     "metadata": {},
     "output_type": "execute_result"
    }
   ],
   "source": [
    "df.head()"
   ]
  },
  {
   "cell_type": "code",
   "execution_count": 6,
   "metadata": {
    "colab": {
     "base_uri": "https://localhost:8080/"
    },
    "id": "V2n4Sfp5bmV8",
    "outputId": "fe58150a-1ace-49d9-8df6-b116840bf176"
   },
   "outputs": [
    {
     "name": "stdout",
     "output_type": "stream",
     "text": [
      "<class 'pandas.core.frame.DataFrame'>\n",
      "RangeIndex: 1598 entries, 0 to 1597\n",
      "Data columns (total 13 columns):\n",
      " #   Column        Non-Null Count  Dtype  \n",
      "---  ------        --------------  -----  \n",
      " 0   STATION CODE  1598 non-null   float64\n",
      " 1   LOCATIONS     1598 non-null   object \n",
      " 2   STATE         1598 non-null   object \n",
      " 3   Temp          1598 non-null   float64\n",
      " 4   DO            1598 non-null   float64\n",
      " 5   PH            1598 non-null   float64\n",
      " 6   Conductivity  1598 non-null   float64\n",
      " 7   BOD           1598 non-null   float64\n",
      " 8   NI            1598 non-null   float64\n",
      " 9   Fec_col       1598 non-null   float64\n",
      " 10  Tot_col       1598 non-null   float64\n",
      " 11  WQI           1598 non-null   float64\n",
      " 12  WQI clf       1598 non-null   int64  \n",
      "dtypes: float64(10), int64(1), object(2)\n",
      "memory usage: 162.4+ KB\n"
     ]
    }
   ],
   "source": [
    "df.info()"
   ]
  },
  {
   "cell_type": "code",
   "execution_count": 5,
   "metadata": {
    "colab": {
     "base_uri": "https://localhost:8080/",
     "height": 300
    },
    "id": "NBRnRzr_cCxA",
    "outputId": "b5c0fbdf-6863-43e6-b6e4-d0b096632588"
   },
   "outputs": [
    {
     "data": {
      "text/html": [
       "<div>\n",
       "<style scoped>\n",
       "    .dataframe tbody tr th:only-of-type {\n",
       "        vertical-align: middle;\n",
       "    }\n",
       "\n",
       "    .dataframe tbody tr th {\n",
       "        vertical-align: top;\n",
       "    }\n",
       "\n",
       "    .dataframe thead th {\n",
       "        text-align: right;\n",
       "    }\n",
       "</style>\n",
       "<table border=\"1\" class=\"dataframe\">\n",
       "  <thead>\n",
       "    <tr style=\"text-align: right;\">\n",
       "      <th></th>\n",
       "      <th>STATION CODE</th>\n",
       "      <th>Temp</th>\n",
       "      <th>DO</th>\n",
       "      <th>PH</th>\n",
       "      <th>Conductivity</th>\n",
       "      <th>BOD</th>\n",
       "      <th>NI</th>\n",
       "      <th>Fec_col</th>\n",
       "      <th>Tot_col</th>\n",
       "      <th>WQI</th>\n",
       "      <th>WQI clf</th>\n",
       "    </tr>\n",
       "  </thead>\n",
       "  <tbody>\n",
       "    <tr>\n",
       "      <th>count</th>\n",
       "      <td>1598.000000</td>\n",
       "      <td>1598.000000</td>\n",
       "      <td>1598.000000</td>\n",
       "      <td>1598.000000</td>\n",
       "      <td>1598.000000</td>\n",
       "      <td>1598.000000</td>\n",
       "      <td>1598.000000</td>\n",
       "      <td>1.598000e+03</td>\n",
       "      <td>1.598000e+03</td>\n",
       "      <td>1.598000e+03</td>\n",
       "      <td>1598.000000</td>\n",
       "    </tr>\n",
       "    <tr>\n",
       "      <th>mean</th>\n",
       "      <td>1933.842929</td>\n",
       "      <td>25.375788</td>\n",
       "      <td>6.485426</td>\n",
       "      <td>7.554343</td>\n",
       "      <td>1093.423942</td>\n",
       "      <td>5.275751</td>\n",
       "      <td>1.581133</td>\n",
       "      <td>7.979965e+04</td>\n",
       "      <td>2.947906e+05</td>\n",
       "      <td>1.924202e+03</td>\n",
       "      <td>0.573217</td>\n",
       "    </tr>\n",
       "    <tr>\n",
       "      <th>std</th>\n",
       "      <td>649.277632</td>\n",
       "      <td>4.084991</td>\n",
       "      <td>1.710130</td>\n",
       "      <td>0.592710</td>\n",
       "      <td>2868.888805</td>\n",
       "      <td>9.769687</td>\n",
       "      <td>2.397786</td>\n",
       "      <td>1.631489e+06</td>\n",
       "      <td>4.245872e+06</td>\n",
       "      <td>3.677602e+04</td>\n",
       "      <td>0.685722</td>\n",
       "    </tr>\n",
       "    <tr>\n",
       "      <th>min</th>\n",
       "      <td>3.000000</td>\n",
       "      <td>2.500000</td>\n",
       "      <td>0.000000</td>\n",
       "      <td>3.200000</td>\n",
       "      <td>0.750000</td>\n",
       "      <td>0.000000</td>\n",
       "      <td>0.000000</td>\n",
       "      <td>0.000000e+00</td>\n",
       "      <td>0.000000e+00</td>\n",
       "      <td>3.136763e+00</td>\n",
       "      <td>0.000000</td>\n",
       "    </tr>\n",
       "    <tr>\n",
       "      <th>25%</th>\n",
       "      <td>1486.000000</td>\n",
       "      <td>23.712500</td>\n",
       "      <td>6.222500</td>\n",
       "      <td>7.300000</td>\n",
       "      <td>253.000000</td>\n",
       "      <td>1.500000</td>\n",
       "      <td>0.250000</td>\n",
       "      <td>9.000000e+00</td>\n",
       "      <td>1.272500e+02</td>\n",
       "      <td>6.208652e+01</td>\n",
       "      <td>0.000000</td>\n",
       "    </tr>\n",
       "    <tr>\n",
       "      <th>50%</th>\n",
       "      <td>1904.500000</td>\n",
       "      <td>26.000000</td>\n",
       "      <td>6.600000</td>\n",
       "      <td>7.700000</td>\n",
       "      <td>436.190000</td>\n",
       "      <td>2.400000</td>\n",
       "      <td>0.790000</td>\n",
       "      <td>1.200000e+02</td>\n",
       "      <td>5.541700e+02</td>\n",
       "      <td>7.747785e+01</td>\n",
       "      <td>0.000000</td>\n",
       "    </tr>\n",
       "    <tr>\n",
       "      <th>75%</th>\n",
       "      <td>2321.000000</td>\n",
       "      <td>28.000000</td>\n",
       "      <td>7.307500</td>\n",
       "      <td>7.900000</td>\n",
       "      <td>883.000000</td>\n",
       "      <td>3.900000</td>\n",
       "      <td>1.700000</td>\n",
       "      <td>4.927500e+02</td>\n",
       "      <td>1.600000e+03</td>\n",
       "      <td>1.293925e+02</td>\n",
       "      <td>1.000000</td>\n",
       "    </tr>\n",
       "    <tr>\n",
       "      <th>max</th>\n",
       "      <td>3475.000000</td>\n",
       "      <td>37.000000</td>\n",
       "      <td>11.700000</td>\n",
       "      <td>10.080000</td>\n",
       "      <td>28914.000000</td>\n",
       "      <td>82.170000</td>\n",
       "      <td>16.800000</td>\n",
       "      <td>4.878477e+07</td>\n",
       "      <td>1.336487e+08</td>\n",
       "      <td>1.092678e+06</td>\n",
       "      <td>3.000000</td>\n",
       "    </tr>\n",
       "  </tbody>\n",
       "</table>\n",
       "</div>"
      ],
      "text/plain": [
       "       STATION CODE         Temp  ...           WQI      WQI clf\n",
       "count   1598.000000  1598.000000  ...  1.598000e+03  1598.000000\n",
       "mean    1933.842929    25.375788  ...  1.924202e+03     0.573217\n",
       "std      649.277632     4.084991  ...  3.677602e+04     0.685722\n",
       "min        3.000000     2.500000  ...  3.136763e+00     0.000000\n",
       "25%     1486.000000    23.712500  ...  6.208652e+01     0.000000\n",
       "50%     1904.500000    26.000000  ...  7.747785e+01     0.000000\n",
       "75%     2321.000000    28.000000  ...  1.293925e+02     1.000000\n",
       "max     3475.000000    37.000000  ...  1.092678e+06     3.000000\n",
       "\n",
       "[8 rows x 11 columns]"
      ]
     },
     "execution_count": 5,
     "metadata": {},
     "output_type": "execute_result"
    }
   ],
   "source": [
    "df.describe()"
   ]
  },
  {
   "cell_type": "code",
   "execution_count": 6,
   "metadata": {
    "colab": {
     "base_uri": "https://localhost:8080/",
     "height": 394
    },
    "id": "rnI-mAI2cFrt",
    "outputId": "55b59e93-8e47-4427-fb42-fb91ffd0dbbe"
   },
   "outputs": [
    {
     "data": {
      "text/html": [
       "<div>\n",
       "<style scoped>\n",
       "    .dataframe tbody tr th:only-of-type {\n",
       "        vertical-align: middle;\n",
       "    }\n",
       "\n",
       "    .dataframe tbody tr th {\n",
       "        vertical-align: top;\n",
       "    }\n",
       "\n",
       "    .dataframe thead th {\n",
       "        text-align: right;\n",
       "    }\n",
       "</style>\n",
       "<table border=\"1\" class=\"dataframe\">\n",
       "  <thead>\n",
       "    <tr style=\"text-align: right;\">\n",
       "      <th></th>\n",
       "      <th>STATION CODE</th>\n",
       "      <th>Temp</th>\n",
       "      <th>DO</th>\n",
       "      <th>PH</th>\n",
       "      <th>Conductivity</th>\n",
       "      <th>BOD</th>\n",
       "      <th>NI</th>\n",
       "      <th>Fec_col</th>\n",
       "      <th>Tot_col</th>\n",
       "      <th>WQI</th>\n",
       "      <th>WQI clf</th>\n",
       "    </tr>\n",
       "  </thead>\n",
       "  <tbody>\n",
       "    <tr>\n",
       "      <th>STATION CODE</th>\n",
       "      <td>1.000000</td>\n",
       "      <td>0.029904</td>\n",
       "      <td>-0.153768</td>\n",
       "      <td>-0.142128</td>\n",
       "      <td>0.045741</td>\n",
       "      <td>0.080709</td>\n",
       "      <td>-0.066874</td>\n",
       "      <td>-0.046877</td>\n",
       "      <td>-0.064904</td>\n",
       "      <td>0.003487</td>\n",
       "      <td>-0.021426</td>\n",
       "    </tr>\n",
       "    <tr>\n",
       "      <th>Temp</th>\n",
       "      <td>0.029904</td>\n",
       "      <td>1.000000</td>\n",
       "      <td>-0.211720</td>\n",
       "      <td>-0.050606</td>\n",
       "      <td>0.194004</td>\n",
       "      <td>-0.021300</td>\n",
       "      <td>0.032751</td>\n",
       "      <td>-0.013307</td>\n",
       "      <td>-0.092421</td>\n",
       "      <td>0.000810</td>\n",
       "      <td>-0.004786</td>\n",
       "    </tr>\n",
       "    <tr>\n",
       "      <th>DO</th>\n",
       "      <td>-0.153768</td>\n",
       "      <td>-0.211720</td>\n",
       "      <td>1.000000</td>\n",
       "      <td>0.138266</td>\n",
       "      <td>-0.356654</td>\n",
       "      <td>-0.291187</td>\n",
       "      <td>-0.077447</td>\n",
       "      <td>0.099340</td>\n",
       "      <td>0.067903</td>\n",
       "      <td>-0.250129</td>\n",
       "      <td>0.198380</td>\n",
       "    </tr>\n",
       "    <tr>\n",
       "      <th>PH</th>\n",
       "      <td>-0.142128</td>\n",
       "      <td>-0.050606</td>\n",
       "      <td>0.138266</td>\n",
       "      <td>1.000000</td>\n",
       "      <td>0.150198</td>\n",
       "      <td>0.180177</td>\n",
       "      <td>-0.072197</td>\n",
       "      <td>0.188163</td>\n",
       "      <td>0.143779</td>\n",
       "      <td>0.479147</td>\n",
       "      <td>-0.479790</td>\n",
       "    </tr>\n",
       "    <tr>\n",
       "      <th>Conductivity</th>\n",
       "      <td>0.045741</td>\n",
       "      <td>0.194004</td>\n",
       "      <td>-0.356654</td>\n",
       "      <td>0.150198</td>\n",
       "      <td>1.000000</td>\n",
       "      <td>0.189030</td>\n",
       "      <td>0.241897</td>\n",
       "      <td>-0.146801</td>\n",
       "      <td>-0.127176</td>\n",
       "      <td>0.170021</td>\n",
       "      <td>-0.137076</td>\n",
       "    </tr>\n",
       "    <tr>\n",
       "      <th>BOD</th>\n",
       "      <td>0.080709</td>\n",
       "      <td>-0.021300</td>\n",
       "      <td>-0.291187</td>\n",
       "      <td>0.180177</td>\n",
       "      <td>0.189030</td>\n",
       "      <td>1.000000</td>\n",
       "      <td>0.037905</td>\n",
       "      <td>0.281798</td>\n",
       "      <td>0.278397</td>\n",
       "      <td>0.750767</td>\n",
       "      <td>-0.680387</td>\n",
       "    </tr>\n",
       "    <tr>\n",
       "      <th>NI</th>\n",
       "      <td>-0.066874</td>\n",
       "      <td>0.032751</td>\n",
       "      <td>-0.077447</td>\n",
       "      <td>-0.072197</td>\n",
       "      <td>0.241897</td>\n",
       "      <td>0.037905</td>\n",
       "      <td>1.000000</td>\n",
       "      <td>-0.080436</td>\n",
       "      <td>-0.104116</td>\n",
       "      <td>-0.053127</td>\n",
       "      <td>0.042317</td>\n",
       "    </tr>\n",
       "    <tr>\n",
       "      <th>Fec_col</th>\n",
       "      <td>-0.046877</td>\n",
       "      <td>-0.013307</td>\n",
       "      <td>0.099340</td>\n",
       "      <td>0.188163</td>\n",
       "      <td>-0.146801</td>\n",
       "      <td>0.281798</td>\n",
       "      <td>-0.080436</td>\n",
       "      <td>1.000000</td>\n",
       "      <td>0.788830</td>\n",
       "      <td>0.590537</td>\n",
       "      <td>-0.496050</td>\n",
       "    </tr>\n",
       "    <tr>\n",
       "      <th>Tot_col</th>\n",
       "      <td>-0.064904</td>\n",
       "      <td>-0.092421</td>\n",
       "      <td>0.067903</td>\n",
       "      <td>0.143779</td>\n",
       "      <td>-0.127176</td>\n",
       "      <td>0.278397</td>\n",
       "      <td>-0.104116</td>\n",
       "      <td>0.788830</td>\n",
       "      <td>1.000000</td>\n",
       "      <td>0.560305</td>\n",
       "      <td>-0.473816</td>\n",
       "    </tr>\n",
       "    <tr>\n",
       "      <th>WQI</th>\n",
       "      <td>0.003487</td>\n",
       "      <td>0.000810</td>\n",
       "      <td>-0.250129</td>\n",
       "      <td>0.479147</td>\n",
       "      <td>0.170021</td>\n",
       "      <td>0.750767</td>\n",
       "      <td>-0.053127</td>\n",
       "      <td>0.590537</td>\n",
       "      <td>0.560305</td>\n",
       "      <td>1.000000</td>\n",
       "      <td>-0.879043</td>\n",
       "    </tr>\n",
       "    <tr>\n",
       "      <th>WQI clf</th>\n",
       "      <td>-0.021426</td>\n",
       "      <td>-0.004786</td>\n",
       "      <td>0.198380</td>\n",
       "      <td>-0.479790</td>\n",
       "      <td>-0.137076</td>\n",
       "      <td>-0.680387</td>\n",
       "      <td>0.042317</td>\n",
       "      <td>-0.496050</td>\n",
       "      <td>-0.473816</td>\n",
       "      <td>-0.879043</td>\n",
       "      <td>1.000000</td>\n",
       "    </tr>\n",
       "  </tbody>\n",
       "</table>\n",
       "</div>"
      ],
      "text/plain": [
       "              STATION CODE      Temp        DO  ...   Tot_col       WQI   WQI clf\n",
       "STATION CODE      1.000000  0.029904 -0.153768  ... -0.064904  0.003487 -0.021426\n",
       "Temp              0.029904  1.000000 -0.211720  ... -0.092421  0.000810 -0.004786\n",
       "DO               -0.153768 -0.211720  1.000000  ...  0.067903 -0.250129  0.198380\n",
       "PH               -0.142128 -0.050606  0.138266  ...  0.143779  0.479147 -0.479790\n",
       "Conductivity      0.045741  0.194004 -0.356654  ... -0.127176  0.170021 -0.137076\n",
       "BOD               0.080709 -0.021300 -0.291187  ...  0.278397  0.750767 -0.680387\n",
       "NI               -0.066874  0.032751 -0.077447  ... -0.104116 -0.053127  0.042317\n",
       "Fec_col          -0.046877 -0.013307  0.099340  ...  0.788830  0.590537 -0.496050\n",
       "Tot_col          -0.064904 -0.092421  0.067903  ...  1.000000  0.560305 -0.473816\n",
       "WQI               0.003487  0.000810 -0.250129  ...  0.560305  1.000000 -0.879043\n",
       "WQI clf          -0.021426 -0.004786  0.198380  ... -0.473816 -0.879043  1.000000\n",
       "\n",
       "[11 rows x 11 columns]"
      ]
     },
     "execution_count": 6,
     "metadata": {},
     "output_type": "execute_result"
    }
   ],
   "source": [
    "df.corr(method='spearman')"
   ]
  },
  {
   "cell_type": "markdown",
   "metadata": {
    "id": "_diELgdFjrIt"
   },
   "source": [
    "### **Finding the most important features**"
   ]
  },
  {
   "cell_type": "markdown",
   "metadata": {
    "id": "_3e3Ydn2lMNi"
   },
   "source": [
    "**Chi-squared test**"
   ]
  },
  {
   "cell_type": "code",
   "execution_count": 7,
   "metadata": {
    "id": "0eDxXEl2jynt"
   },
   "outputs": [],
   "source": [
    "from scipy.stats import chi2_contingency\n",
    "from itertools import permutations\n",
    "\n",
    "temp_df = df.select_dtypes(exclude=[np.int64,np.float64])\n",
    "list_of_perms = list(permutations(temp_df.columns,2))\n",
    "rows, cols = [], []\n",
    "for i,v in list_of_perms:\n",
    "    rows.append(i)\n",
    "    cols.append(v)\n",
    "\n",
    "table = pd.DataFrame(index=pd.Series(rows).unique(),columns=pd.Series(rows).unique())\n",
    "p_values = []\n",
    "for i,v in list_of_perms:\n",
    "    stat, p, dof, expected = chi2_contingency(np.array(pd.crosstab(temp_df[i],temp_df[v])))\n",
    "    p_values.append(p)\n",
    "\n",
    "for i,v in list_of_perms:\n",
    "    idx = 0\n",
    "    if p_values[idx] <= 0.05:\n",
    "        table.loc[i,v] = 'N'\n",
    "    else:\n",
    "        table.loc[i,v] = 'I'\n",
    "    idx+=1"
   ]
  },
  {
   "cell_type": "code",
   "execution_count": 8,
   "metadata": {
    "colab": {
     "base_uri": "https://localhost:8080/",
     "height": 112
    },
    "id": "5QVypWW5kIhe",
    "outputId": "91e5e8ce-e93d-4ec7-a99c-22df571543fe"
   },
   "outputs": [
    {
     "data": {
      "text/html": [
       "<div>\n",
       "<style scoped>\n",
       "    .dataframe tbody tr th:only-of-type {\n",
       "        vertical-align: middle;\n",
       "    }\n",
       "\n",
       "    .dataframe tbody tr th {\n",
       "        vertical-align: top;\n",
       "    }\n",
       "\n",
       "    .dataframe thead th {\n",
       "        text-align: right;\n",
       "    }\n",
       "</style>\n",
       "<table border=\"1\" class=\"dataframe\">\n",
       "  <thead>\n",
       "    <tr style=\"text-align: right;\">\n",
       "      <th></th>\n",
       "      <th>LOCATIONS</th>\n",
       "      <th>STATE</th>\n",
       "    </tr>\n",
       "  </thead>\n",
       "  <tbody>\n",
       "    <tr>\n",
       "      <th>LOCATIONS</th>\n",
       "      <td>NaN</td>\n",
       "      <td>N</td>\n",
       "    </tr>\n",
       "    <tr>\n",
       "      <th>STATE</th>\n",
       "      <td>N</td>\n",
       "      <td>NaN</td>\n",
       "    </tr>\n",
       "  </tbody>\n",
       "</table>\n",
       "</div>"
      ],
      "text/plain": [
       "          LOCATIONS STATE\n",
       "LOCATIONS       NaN     N\n",
       "STATE             N   NaN"
      ]
     },
     "execution_count": 8,
     "metadata": {},
     "output_type": "execute_result"
    }
   ],
   "source": [
    "table"
   ]
  },
  {
   "cell_type": "markdown",
   "metadata": {
    "id": "RlPQM8BtlSG5"
   },
   "source": [
    "**Spearman correlation test**"
   ]
  },
  {
   "cell_type": "code",
   "execution_count": 9,
   "metadata": {
    "id": "KJ-wJO91kJDt"
   },
   "outputs": [],
   "source": [
    "temp_df = df.select_dtypes(include=[np.int64,np.float64])"
   ]
  },
  {
   "cell_type": "code",
   "execution_count": 10,
   "metadata": {
    "id": "Wik0OUC6kfZI"
   },
   "outputs": [],
   "source": [
    "corr_matrix = temp_df.corr(method='spearman')\n",
    "corr_matrix = corr_matrix.abs()"
   ]
  },
  {
   "cell_type": "code",
   "execution_count": 11,
   "metadata": {
    "id": "hyZjwYCGkise"
   },
   "outputs": [],
   "source": [
    "results = []\n",
    "for i in np.array(corr_matrix).flatten():\n",
    "    if i >= 0.8:\n",
    "        results.append('N')\n",
    "    else:\n",
    "        results.append('I')"
   ]
  },
  {
   "cell_type": "code",
   "execution_count": 12,
   "metadata": {
    "id": "-D69BiObk4RQ"
   },
   "outputs": [],
   "source": [
    "corr_matrix.loc[:,:] = np.array(results).reshape(len(temp_df.columns),-1)"
   ]
  },
  {
   "cell_type": "code",
   "execution_count": 13,
   "metadata": {
    "colab": {
     "base_uri": "https://localhost:8080/",
     "height": 394
    },
    "id": "fKp5W4Mek5xQ",
    "outputId": "ded12ba6-8b87-47e2-8c99-0c3ac10fcf95"
   },
   "outputs": [
    {
     "data": {
      "text/html": [
       "<div>\n",
       "<style scoped>\n",
       "    .dataframe tbody tr th:only-of-type {\n",
       "        vertical-align: middle;\n",
       "    }\n",
       "\n",
       "    .dataframe tbody tr th {\n",
       "        vertical-align: top;\n",
       "    }\n",
       "\n",
       "    .dataframe thead th {\n",
       "        text-align: right;\n",
       "    }\n",
       "</style>\n",
       "<table border=\"1\" class=\"dataframe\">\n",
       "  <thead>\n",
       "    <tr style=\"text-align: right;\">\n",
       "      <th></th>\n",
       "      <th>STATION CODE</th>\n",
       "      <th>Temp</th>\n",
       "      <th>DO</th>\n",
       "      <th>PH</th>\n",
       "      <th>Conductivity</th>\n",
       "      <th>BOD</th>\n",
       "      <th>NI</th>\n",
       "      <th>Fec_col</th>\n",
       "      <th>Tot_col</th>\n",
       "      <th>WQI</th>\n",
       "      <th>WQI clf</th>\n",
       "    </tr>\n",
       "  </thead>\n",
       "  <tbody>\n",
       "    <tr>\n",
       "      <th>STATION CODE</th>\n",
       "      <td>N</td>\n",
       "      <td>I</td>\n",
       "      <td>I</td>\n",
       "      <td>I</td>\n",
       "      <td>I</td>\n",
       "      <td>I</td>\n",
       "      <td>I</td>\n",
       "      <td>I</td>\n",
       "      <td>I</td>\n",
       "      <td>I</td>\n",
       "      <td>I</td>\n",
       "    </tr>\n",
       "    <tr>\n",
       "      <th>Temp</th>\n",
       "      <td>I</td>\n",
       "      <td>N</td>\n",
       "      <td>I</td>\n",
       "      <td>I</td>\n",
       "      <td>I</td>\n",
       "      <td>I</td>\n",
       "      <td>I</td>\n",
       "      <td>I</td>\n",
       "      <td>I</td>\n",
       "      <td>I</td>\n",
       "      <td>I</td>\n",
       "    </tr>\n",
       "    <tr>\n",
       "      <th>DO</th>\n",
       "      <td>I</td>\n",
       "      <td>I</td>\n",
       "      <td>N</td>\n",
       "      <td>I</td>\n",
       "      <td>I</td>\n",
       "      <td>I</td>\n",
       "      <td>I</td>\n",
       "      <td>I</td>\n",
       "      <td>I</td>\n",
       "      <td>I</td>\n",
       "      <td>I</td>\n",
       "    </tr>\n",
       "    <tr>\n",
       "      <th>PH</th>\n",
       "      <td>I</td>\n",
       "      <td>I</td>\n",
       "      <td>I</td>\n",
       "      <td>N</td>\n",
       "      <td>I</td>\n",
       "      <td>I</td>\n",
       "      <td>I</td>\n",
       "      <td>I</td>\n",
       "      <td>I</td>\n",
       "      <td>I</td>\n",
       "      <td>I</td>\n",
       "    </tr>\n",
       "    <tr>\n",
       "      <th>Conductivity</th>\n",
       "      <td>I</td>\n",
       "      <td>I</td>\n",
       "      <td>I</td>\n",
       "      <td>I</td>\n",
       "      <td>N</td>\n",
       "      <td>I</td>\n",
       "      <td>I</td>\n",
       "      <td>I</td>\n",
       "      <td>I</td>\n",
       "      <td>I</td>\n",
       "      <td>I</td>\n",
       "    </tr>\n",
       "    <tr>\n",
       "      <th>BOD</th>\n",
       "      <td>I</td>\n",
       "      <td>I</td>\n",
       "      <td>I</td>\n",
       "      <td>I</td>\n",
       "      <td>I</td>\n",
       "      <td>N</td>\n",
       "      <td>I</td>\n",
       "      <td>I</td>\n",
       "      <td>I</td>\n",
       "      <td>I</td>\n",
       "      <td>I</td>\n",
       "    </tr>\n",
       "    <tr>\n",
       "      <th>NI</th>\n",
       "      <td>I</td>\n",
       "      <td>I</td>\n",
       "      <td>I</td>\n",
       "      <td>I</td>\n",
       "      <td>I</td>\n",
       "      <td>I</td>\n",
       "      <td>N</td>\n",
       "      <td>I</td>\n",
       "      <td>I</td>\n",
       "      <td>I</td>\n",
       "      <td>I</td>\n",
       "    </tr>\n",
       "    <tr>\n",
       "      <th>Fec_col</th>\n",
       "      <td>I</td>\n",
       "      <td>I</td>\n",
       "      <td>I</td>\n",
       "      <td>I</td>\n",
       "      <td>I</td>\n",
       "      <td>I</td>\n",
       "      <td>I</td>\n",
       "      <td>N</td>\n",
       "      <td>I</td>\n",
       "      <td>I</td>\n",
       "      <td>I</td>\n",
       "    </tr>\n",
       "    <tr>\n",
       "      <th>Tot_col</th>\n",
       "      <td>I</td>\n",
       "      <td>I</td>\n",
       "      <td>I</td>\n",
       "      <td>I</td>\n",
       "      <td>I</td>\n",
       "      <td>I</td>\n",
       "      <td>I</td>\n",
       "      <td>I</td>\n",
       "      <td>N</td>\n",
       "      <td>I</td>\n",
       "      <td>I</td>\n",
       "    </tr>\n",
       "    <tr>\n",
       "      <th>WQI</th>\n",
       "      <td>I</td>\n",
       "      <td>I</td>\n",
       "      <td>I</td>\n",
       "      <td>I</td>\n",
       "      <td>I</td>\n",
       "      <td>I</td>\n",
       "      <td>I</td>\n",
       "      <td>I</td>\n",
       "      <td>I</td>\n",
       "      <td>N</td>\n",
       "      <td>N</td>\n",
       "    </tr>\n",
       "    <tr>\n",
       "      <th>WQI clf</th>\n",
       "      <td>I</td>\n",
       "      <td>I</td>\n",
       "      <td>I</td>\n",
       "      <td>I</td>\n",
       "      <td>I</td>\n",
       "      <td>I</td>\n",
       "      <td>I</td>\n",
       "      <td>I</td>\n",
       "      <td>I</td>\n",
       "      <td>N</td>\n",
       "      <td>N</td>\n",
       "    </tr>\n",
       "  </tbody>\n",
       "</table>\n",
       "</div>"
      ],
      "text/plain": [
       "             STATION CODE Temp DO PH  ... Fec_col Tot_col WQI WQI clf\n",
       "STATION CODE            N    I  I  I  ...       I       I   I       I\n",
       "Temp                    I    N  I  I  ...       I       I   I       I\n",
       "DO                      I    I  N  I  ...       I       I   I       I\n",
       "PH                      I    I  I  N  ...       I       I   I       I\n",
       "Conductivity            I    I  I  I  ...       I       I   I       I\n",
       "BOD                     I    I  I  I  ...       I       I   I       I\n",
       "NI                      I    I  I  I  ...       I       I   I       I\n",
       "Fec_col                 I    I  I  I  ...       N       I   I       I\n",
       "Tot_col                 I    I  I  I  ...       I       N   I       I\n",
       "WQI                     I    I  I  I  ...       I       I   N       N\n",
       "WQI clf                 I    I  I  I  ...       I       I   N       N\n",
       "\n",
       "[11 rows x 11 columns]"
      ]
     },
     "execution_count": 13,
     "metadata": {},
     "output_type": "execute_result"
    }
   ],
   "source": [
    "corr_matrix"
   ]
  },
  {
   "cell_type": "markdown",
   "metadata": {
    "id": "NpV_DB6nlEaR"
   },
   "source": [
    "**Principal Component Analysis (PCA)**"
   ]
  },
  {
   "cell_type": "code",
   "execution_count": 14,
   "metadata": {
    "id": "zWMiQMAml1il"
   },
   "outputs": [],
   "source": [
    "from sklearn.decomposition import PCA\n",
    "\n",
    "pca = PCA()\n",
    "\n",
    "reduced = pca.fit_transform(temp_df)"
   ]
  },
  {
   "cell_type": "code",
   "execution_count": 15,
   "metadata": {
    "colab": {
     "base_uri": "https://localhost:8080/",
     "height": 499
    },
    "id": "IQOsUR7gmCt3",
    "outputId": "c1b4d599-1e1a-44d8-86f8-bf69e0e535a1"
   },
   "outputs": [
    {
     "data": {
      "image/png": "[encoded data removed]",
      "text/plain": [
       "<Figure size 864x576 with 1 Axes>"
      ]
     },
     "metadata": {
      "needs_background": "light"
     },
     "output_type": "display_data"
    }
   ],
   "source": [
    "(fig,ax)=plt.subplots(figsize=(12,8)) \n",
    "for i in range(0,len(pca.components_)):\n",
    "    ax.arrow(0,0,pca.components_[0,i],pca.components_[1,i], head_width=0.1,head_length=0.1)\n",
    "for i in range(0,len(pca.components_)):\n",
    "    plt.text(pca.components_[0,i]+0.05,pca.components_[1,i]+0.05,temp_df.columns.values[i])\n",
    "an = np.linspace(0,2*np.pi,100)\n",
    "plt.plot(np.cos(an),np.sin(an)) \n",
    "plt.axis('equal')\n",
    "ax.set_title('Circle of PCs')\n",
    "plt.show()"
   ]
  },
  {
   "cell_type": "markdown",
   "metadata": {
    "id": "s8LdSEUumEVv"
   },
   "source": [
    "Looks like Tot_col and Fec_col are the most important parameters"
   ]
  },
  {
   "cell_type": "markdown",
   "metadata": {
    "id": "KXrgA6bnmMTf"
   },
   "source": [
    "### **Model Building**"
   ]
  },
  {
   "cell_type": "code",
   "execution_count": 16,
   "metadata": {
    "id": "h6SjC85tm3mT"
   },
   "outputs": [],
   "source": [
    "X  = df.select_dtypes(include=[np.int64,np.float64])\n",
    "X = X[X.columns[:-2]]\n",
    "y_reg = df[df.columns[-2]]\n",
    "y_clf = df[df.columns[-1]]"
   ]
  },
  {
   "cell_type": "code",
   "execution_count": 17,
   "metadata": {
    "id": "Hanz7ZgFnhpf"
   },
   "outputs": [],
   "source": [
    "from sklearn.model_selection import train_test_split\n",
    "X_train, X_test, y_train, y_test = train_test_split(X, y_reg, test_size=0.2)"
   ]
  },
  {
   "cell_type": "code",
   "execution_count": 18,
   "metadata": {
    "id": "t6gFUMCrmSkB"
   },
   "outputs": [],
   "source": [
    "from sklearn.linear_model import LinearRegression"
   ]
  },
  {
   "cell_type": "code",
   "execution_count": 19,
   "metadata": {
    "colab": {
     "base_uri": "https://localhost:8080/"
    },
    "id": "ktP0yt5Pmzow",
    "outputId": "e662e81f-ff20-4192-8748-e324516afbec"
   },
   "outputs": [
    {
     "data": {
      "text/plain": [
       "LinearRegression()"
      ]
     },
     "execution_count": 19,
     "metadata": {},
     "output_type": "execute_result"
    }
   ],
   "source": [
    "lr = LinearRegression()\n",
    "lr.fit(X_train, y_train)"
   ]
  },
  {
   "cell_type": "code",
   "execution_count": 20,
   "metadata": {
    "id": "wem8g4SPnUkt"
   },
   "outputs": [],
   "source": [
    "lr_pred = lr.predict(X_test)"
   ]
  },
  {
   "cell_type": "code",
   "execution_count": 21,
   "metadata": {
    "id": "hu3dkoAFpFl3"
   },
   "outputs": [],
   "source": [
    "from sklearn.metrics import mean_squared_error, r2_score"
   ]
  },
  {
   "cell_type": "code",
   "execution_count": 22,
   "metadata": {
    "colab": {
     "base_uri": "https://localhost:8080/"
    },
    "id": "7pT2OjdDpKRA",
    "outputId": "0bb621a8-eb36-4ea7-f72f-174f1757d7f9"
   },
   "outputs": [
    {
     "data": {
      "text/plain": [
       "3.344278863529129e-19"
      ]
     },
     "execution_count": 22,
     "metadata": {},
     "output_type": "execute_result"
    }
   ],
   "source": [
    "mean_squared_error(y_test, lr_pred)"
   ]
  },
  {
   "cell_type": "code",
   "execution_count": 23,
   "metadata": {
    "colab": {
     "base_uri": "https://localhost:8080/"
    },
    "id": "Nf8F32h2pXPm",
    "outputId": "17075e54-2144-4ce4-d65e-f3dcba33854a"
   },
   "outputs": [
    {
     "data": {
      "text/plain": [
       "1.0"
      ]
     },
     "execution_count": 23,
     "metadata": {},
     "output_type": "execute_result"
    }
   ],
   "source": [
    "r2_score(y_test, lr_pred)"
   ]
  },
  {
   "cell_type": "markdown",
   "metadata": {
    "id": "T1dJL9sxqjxO"
   },
   "source": [
    "Problem with linear regression is we can't extrapolate (i.e predict values outside of the range of the data), so we'll look into other models"
   ]
  },
  {
   "cell_type": "code",
   "execution_count": 24,
   "metadata": {
    "id": "Nr1lfY-MtmJu"
   },
   "outputs": [],
   "source": [
    "from sklearn.linear_model import Ridge"
   ]
  },
  {
   "cell_type": "code",
   "execution_count": 25,
   "metadata": {
    "colab": {
     "base_uri": "https://localhost:8080/"
    },
    "id": "N9HAY3-AucV-",
    "outputId": "2267b0b6-f1ed-46a8-bab9-fc3e23f9db51"
   },
   "outputs": [
    {
     "data": {
      "text/plain": [
       "Ridge()"
      ]
     },
     "execution_count": 25,
     "metadata": {},
     "output_type": "execute_result"
    }
   ],
   "source": [
    "ridge = Ridge()\n",
    "ridge.fit(X_train, y_train)"
   ]
  },
  {
   "cell_type": "code",
   "execution_count": 26,
   "metadata": {
    "id": "OYxibISyuhcf"
   },
   "outputs": [],
   "source": [
    "ridge_pred = ridge.predict(X_test)"
   ]
  },
  {
   "cell_type": "code",
   "execution_count": 27,
   "metadata": {
    "colab": {
     "base_uri": "https://localhost:8080/"
    },
    "id": "CqW-uEAculB4",
    "outputId": "b8ff7517-6622-4f68-b06d-915185e930ce"
   },
   "outputs": [
    {
     "data": {
      "text/plain": [
       "0.02232151100792947"
      ]
     },
     "execution_count": 27,
     "metadata": {},
     "output_type": "execute_result"
    }
   ],
   "source": [
    "np.sqrt(mean_squared_error(y_test, ridge_pred))"
   ]
  },
  {
   "cell_type": "code",
   "execution_count": 28,
   "metadata": {
    "colab": {
     "base_uri": "https://localhost:8080/"
    },
    "id": "j1d9nC9nupwu",
    "outputId": "8007dade-4b2b-4310-a063-2b761e42450f"
   },
   "outputs": [
    {
     "data": {
      "text/plain": [
       "0.9999999989346"
      ]
     },
     "execution_count": 28,
     "metadata": {},
     "output_type": "execute_result"
    }
   ],
   "source": [
    "r2_score(y_test, ridge_pred)"
   ]
  },
  {
   "cell_type": "markdown",
   "metadata": {
    "id": "5ybhX7_Nur4C"
   },
   "source": [
    "### **Classification Models**"
   ]
  },
  {
   "cell_type": "code",
   "execution_count": 29,
   "metadata": {
    "id": "-hTCpm-nu5jS"
   },
   "outputs": [],
   "source": [
    "from sklearn.linear_model import SGDClassifier"
   ]
  },
  {
   "cell_type": "code",
   "execution_count": 30,
   "metadata": {
    "id": "gf8wsGVXyL5d"
   },
   "outputs": [],
   "source": [
    "X_train, X_test, y_train, y_test = train_test_split(X, y_clf, test_size=0.2)"
   ]
  },
  {
   "cell_type": "code",
   "execution_count": 31,
   "metadata": {
    "colab": {
     "base_uri": "https://localhost:8080/"
    },
    "id": "_SS71mTsx76R",
    "outputId": "6113759c-5255-4fb1-b209-4b60eef80ba0"
   },
   "outputs": [
    {
     "data": {
      "text/plain": [
       "SGDClassifier()"
      ]
     },
     "execution_count": 31,
     "metadata": {},
     "output_type": "execute_result"
    }
   ],
   "source": [
    "sgd = SGDClassifier()\n",
    "sgd.fit(X_train, y_train)"
   ]
  },
  {
   "cell_type": "code",
   "execution_count": 32,
   "metadata": {
    "id": "fMmv7IUNyGA_"
   },
   "outputs": [],
   "source": [
    "sgd_pred = sgd.predict(X_test)"
   ]
  },
  {
   "cell_type": "code",
   "execution_count": 33,
   "metadata": {
    "id": "6I2mhciCySCh"
   },
   "outputs": [],
   "source": [
    "from sklearn.metrics import classification_report"
   ]
  },
  {
   "cell_type": "code",
   "execution_count": 34,
   "metadata": {
    "colab": {
     "base_uri": "https://localhost:8080/"
    },
    "id": "ym1_0osZyVS5",
    "outputId": "c977f205-75b8-4fcf-917e-8c0895e89754"
   },
   "outputs": [
    {
     "name": "stdout",
     "output_type": "stream",
     "text": [
      "              precision    recall  f1-score   support\n",
      "\n",
      "           0       0.64      0.75      0.69       176\n",
      "           1       0.48      0.34      0.40       114\n",
      "           2       0.15      0.18      0.16        28\n",
      "           3       0.00      0.00      0.00         2\n",
      "\n",
      "    accuracy                           0.55       320\n",
      "   macro avg       0.32      0.32      0.31       320\n",
      "weighted avg       0.54      0.55      0.54       320\n",
      "\n"
     ]
    }
   ],
   "source": [
    "print(classification_report(y_test, sgd_pred))"
   ]
  },
  {
   "cell_type": "code",
   "execution_count": 35,
   "metadata": {
    "id": "oFKCGrSByZo3"
   },
   "outputs": [],
   "source": [
    "from sklearn.model_selection import ParameterGrid\n",
    "from sklearn.metrics import roc_auc_score\n",
    "from sklearn.model_selection import GridSearchCV"
   ]
  },
  {
   "cell_type": "code",
   "execution_count": 36,
   "metadata": {
    "id": "PsaBiypqy4Eg"
   },
   "outputs": [],
   "source": [
    "no_of_folds = 5\n",
    "grid_param = {\n",
    "    'alpha': [1e-5, 1e-4, 1e-3, 1e-2, 1e-1, 1e0, 1e1, 1e2, 1e3, 1e4], # learning rate\n",
    "    'max_iter': [1000, 2000, 3000, 4000, 5000], # number of epochs\n",
    "    'loss': ['log', 'hinge'], # logistic regression,\n",
    "    'penalty': ['l2', 'l1'],\n",
    "}"
   ]
  },
  {
   "cell_type": "code",
   "execution_count": 37,
   "metadata": {
    "id": "7speqCeI0HgB"
   },
   "outputs": [],
   "source": [
    "classifier = SGDClassifier()"
   ]
  },
  {
   "cell_type": "code",
   "execution_count": 38,
   "metadata": {
    "id": "GXzINQ1K0MJD"
   },
   "outputs": [],
   "source": [
    "gd_sr = GridSearchCV(estimator=classifier,\n",
    "param_grid=grid_param,\n",
    "scoring='accuracy',\n",
    "cv=no_of_folds,\n",
    "n_jobs=-1 # A value of -1 for n_jobs parameter means that use\n",
    "# all available computing power.\n",
    ")"
   ]
  },
  {
   "cell_type": "code",
   "execution_count": 39,
   "metadata": {
    "colab": {
     "base_uri": "https://localhost:8080/"
    },
    "id": "TgFNuOLX0UxZ",
    "outputId": "2450ee8a-fb08-4317-fda0-d3c5eb515858"
   },
   "outputs": [
    {
     "data": {
      "text/plain": [
       "GridSearchCV(cv=5, estimator=SGDClassifier(), n_jobs=-1,\n",
       "             param_grid={'alpha': [1e-05, 0.0001, 0.001, 0.01, 0.1, 1.0, 10.0,\n",
       "                                   100.0, 1000.0, 10000.0],\n",
       "                         'loss': ['log', 'hinge'],\n",
       "                         'max_iter': [1000, 2000, 3000, 4000, 5000],\n",
       "                         'penalty': ['l2', 'l1']},\n",
       "             scoring='accuracy')"
      ]
     },
     "execution_count": 39,
     "metadata": {},
     "output_type": "execute_result"
    }
   ],
   "source": [
    "gd_sr.fit(X_train, y_train)"
   ]
  },
  {
   "cell_type": "code",
   "execution_count": 40,
   "metadata": {
    "colab": {
     "base_uri": "https://localhost:8080/"
    },
    "id": "OsiLEhbO0cWe",
    "outputId": "12554598-2769-40b9-c835-0537e54bcf1d"
   },
   "outputs": [
    {
     "data": {
      "text/plain": [
       "0.6205055147058823"
      ]
     },
     "execution_count": 40,
     "metadata": {},
     "output_type": "execute_result"
    }
   ],
   "source": [
    "gd_sr.best_score_"
   ]
  },
  {
   "cell_type": "code",
   "execution_count": 41,
   "metadata": {
    "colab": {
     "base_uri": "https://localhost:8080/"
    },
    "id": "YJ5KA0VS0pnj",
    "outputId": "b202480b-01d8-4efd-9a10-bcf5a9c9ffd4"
   },
   "outputs": [
    {
     "data": {
      "text/plain": [
       "SGDClassifier(alpha=10000.0, loss='log', max_iter=5000)"
      ]
     },
     "execution_count": 41,
     "metadata": {},
     "output_type": "execute_result"
    }
   ],
   "source": [
    "gd_sr.best_estimator_"
   ]
  },
  {
   "cell_type": "code",
   "execution_count": 42,
   "metadata": {
    "colab": {
     "base_uri": "https://localhost:8080/"
    },
    "id": "ekg-oUxs2W8K",
    "outputId": "ed5470e0-c29e-4752-ec9b-defc1b1a1681"
   },
   "outputs": [
    {
     "data": {
      "text/plain": [
       "{'alpha': 10000.0, 'loss': 'log', 'max_iter': 5000, 'penalty': 'l2'}"
      ]
     },
     "execution_count": 42,
     "metadata": {},
     "output_type": "execute_result"
    }
   ],
   "source": [
    "gd_sr.best_params_"
   ]
  },
  {
   "cell_type": "code",
   "execution_count": 80,
   "metadata": {
    "id": "39Y2mcJ92agO"
   },
   "outputs": [],
   "source": [
    "from sklearn.ensemble import GradientBoostingClassifier"
   ]
  },
  {
   "cell_type": "code",
   "execution_count": 81,
   "metadata": {
    "id": "Y8ZdpmhD2lae"
   },
   "outputs": [],
   "source": [
    "no_of_folds = 5\n",
    "n_trees = [10, 50, 100]\n",
    "learning_rates = [0.01, 0.1, 1.0]\n",
    "subsamples = [0.5, 0.7, 1.0]\n",
    "max_depths = [3, 5, 7]\n",
    "max_features_arr = [3, 5, 7, 11, 15, 20]"
   ]
  },
  {
   "cell_type": "code",
   "execution_count": 82,
   "metadata": {
    "id": "_yCbXmYI2ooV"
   },
   "outputs": [],
   "source": [
    "grid_param = {\n",
    "'n_estimators': n_trees,\n",
    "'learning_rate': learning_rates,\n",
    "'subsample': subsamples,\n",
    "'max_depth': max_depths,\n",
    "'max_features': max_features_arr\n",
    "}"
   ]
  },
  {
   "cell_type": "code",
   "execution_count": 83,
   "metadata": {
    "id": "tYCTs3Ck2q1A"
   },
   "outputs": [],
   "source": [
    "classifier = GradientBoostingClassifier()"
   ]
  },
  {
   "cell_type": "code",
   "execution_count": 84,
   "metadata": {
    "id": "NhTLe8Wr2s7G"
   },
   "outputs": [],
   "source": [
    "gd_sr = GridSearchCV(estimator=classifier,\n",
    "param_grid=grid_param,\n",
    "scoring='accuracy',\n",
    "cv=no_of_folds,\n",
    "n_jobs=-1 # A value of -1 for n_jobs parameter means that use\n",
    "# all available computing power.\n",
    ")"
   ]
  },
  {
   "cell_type": "code",
   "execution_count": null,
   "metadata": {
    "id": "j2ro6oft2vdE"
   },
   "outputs": [],
   "source": [
    "gd_sr.fit(X_train, y_train)"
   ]
  },
  {
   "cell_type": "code",
   "execution_count": null,
   "metadata": {
    "id": "BCWzmPvF2yJ1"
   },
   "outputs": [],
   "source": [
    "gd_sr.best_score_"
   ]
  },
  {
   "cell_type": "code",
   "execution_count": null,
   "metadata": {
    "id": "rjkDkA9Q4hK1"
   },
   "outputs": [],
   "source": [
    "gd_sr.best_params_"
   ]
  },
  {
   "cell_type": "code",
   "execution_count": null,
   "metadata": {
    "id": "NeDNypimcJnS"
   },
   "outputs": [],
   "source": []
  },
  {
   "cell_type": "code",
   "execution_count": null,
   "metadata": {
    "id": "9K4sZBlx59iM"
   },
   "outputs": [],
   "source": [
    "no_of_folds = 5\n",
    "n_trees = [10, 50, 100, 200]\n",
    "n_estimators = [100, 250, 500, 1000]\n",
    "learning_rates = [0.0001, 0.001, 0.01, 0.1, 1.0]\n",
    "subsamples = [0.5, 0.7, 1.0]\n",
    "max_depths = [3, 5, 7, 9, 11]\n",
    "max_features_arr = [3, 5, 7, 11, 15, 20, 25]"
   ]
  },
  {
   "cell_type": "code",
   "execution_count": null,
   "metadata": {
    "id": "ruYRWHe45fBP"
   },
   "outputs": [],
   "source": [
    "gd_sr = GridSearchCV(estimator=classifier,\n",
    "param_grid=grid_param,\n",
    "scoring='accuracy',\n",
    "cv=no_of_folds,\n",
    "n_jobs=-1 # A value of -1 for n_jobs parameter means that use\n",
    "# all available computing power.\n",
    ")"
   ]
  },
  {
   "cell_type": "code",
   "execution_count": null,
   "metadata": {
    "id": "ASaDTbOH6JP3"
   },
   "outputs": [],
   "source": [
    "gd_sr.fit(X_train, y_train)"
   ]
  },
  {
   "cell_type": "code",
   "execution_count": null,
   "metadata": {
    "id": "_BmM-4A5-HYu"
   },
   "outputs": [],
   "source": [
    "gd_sr.best_score_"
   ]
  },
  {
   "cell_type": "code",
   "execution_count": null,
   "metadata": {
    "id": "YH7MWPL1-Hur"
   },
   "outputs": [],
   "source": [
    "gd_sr.best_params_"
   ]
  },
  {
   "cell_type": "code",
   "execution_count": null,
   "metadata": {
    "id": "zla9mW5-e2qL"
   },
   "outputs": [],
   "source": []
  },
  {
   "cell_type": "code",
   "execution_count": null,
   "metadata": {
    "id": "sNEBHhCi-Kw7"
   },
   "outputs": [],
   "source": [
    "no_of_folds = 5\n",
    "n_trees = [10, 50, 100, 200]\n",
    "n_estimators = [100, 250, 500, 1000]\n",
    "learning_rates = [0.0001, 0.001, 0.01, 0.1, 1.0]\n",
    "subsamples = [0.5, 0.7, 1.0]\n",
    "max_depths = [3, 5, 7, 9, 11]\n",
    "max_features_arr = [3, 5, 7, 11, 15, 20, 25]"
   ]
  },
  {
   "cell_type": "code",
   "execution_count": null,
   "metadata": {
    "id": "iGORY7vu-3Qr"
   },
   "outputs": [],
   "source": [
    "gd_sr = GridSearchCV(estimator=classifier,\n",
    "param_grid=grid_param,\n",
    "scoring='accuracy',\n",
    "cv=no_of_folds,\n",
    "n_jobs=-1 # A value of -1 for n_jobs parameter means that use\n",
    "# all available computing power.\n",
    ")"
   ]
  },
  {
   "cell_type": "code",
   "execution_count": null,
   "metadata": {
    "id": "KGcfH6cR-5A-"
   },
   "outputs": [],
   "source": [
    "gd_sr.fit(X_train, y_train)"
   ]
  },
  {
   "cell_type": "code",
   "execution_count": null,
   "metadata": {
    "id": "8aw5qxHo-7Gn"
   },
   "outputs": [],
   "source": [
    "gd_sr.best_score_"
   ]
  },
  {
   "cell_type": "code",
   "execution_count": null,
   "metadata": {
    "id": "eEuVcJbRAq3q"
   },
   "outputs": [],
   "source": [
    "from sklearn.model_selection import KFold\n",
    "from sklearn.metrics import accuracy_score\n",
    "from sklearn.neighbors import KNeighborsClassifier"
   ]
  },
  {
   "cell_type": "code",
   "execution_count": null,
   "metadata": {
    "id": "9Sm0jThQ4ej8"
   },
   "outputs": [],
   "source": [
    "kf = KFold(n_splits=5)"
   ]
  },
  {
   "cell_type": "code",
   "execution_count": null,
   "metadata": {
    "id": "S2LHkIHtyWB_"
   },
   "outputs": [],
   "source": [
    "all_accuracies = []\n",
    "for k in range(1,100):\n",
    "    knn = KNeighborsClassifier(n_neighbors=k)\n",
    "\n",
    "    accuracies = []\n",
    "\n",
    "    for train_index, test_index in kf.split(X):\n",
    "        # Split train-test\n",
    "        X_train, X_test = X.iloc[train_index], X.iloc[test_index]\n",
    "        y_train, y_test = y_clf[train_index], y_clf[test_index]\n",
    "        # Train the model\n",
    "        model = knn.fit(X_train, y_train)\n",
    "        # Append to accuracies the accuracy of the model\n",
    "        accuracies.append(accuracy_score(y_test, model.predict(X_test))*100)\n",
    "        all_accuracies.append(accuracy_score(y_test, model.predict(X_test))*100)\n",
    "\n",
    "    print(f\"K = {k}\", 'All accuracies:', accuracies, '\\n', 'Best Accuracy:', max(accuracies))\n",
    "\n",
    "print(max(all_accuracies))"
   ]
  },
  {
   "cell_type": "code",
   "execution_count": null,
   "metadata": {
    "id": "aIW4H_yp4gJm"
   },
   "outputs": [],
   "source": []
  }
 ],
 "metadata": {
  "colab": {
   "name": "model building.ipynb",
   "provenance": []
  },
  "kernelspec": {
   "display_name": "Python 3 (ipykernel)",
   "language": "python",
   "name": "python3"
  },
  "language_info": {
   "codemirror_mode": {
    "name": "ipython",
    "version": 3
   },
   "file_extension": ".py",
   "mimetype": "text/x-python",
   "name": "python",
   "nbconvert_exporter": "python",
   "pygments_lexer": "ipython3",
   "version": "3.8.10"
  }
 },
 "nbformat": 4,
 "nbformat_minor": 1
}
