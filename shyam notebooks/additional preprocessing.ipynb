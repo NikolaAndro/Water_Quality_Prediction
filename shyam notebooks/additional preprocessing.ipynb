{
  "nbformat": 4,
  "nbformat_minor": 0,
  "metadata": {
    "colab": {
      "name": "cs6304-research.ipynb",
      "provenance": []
    },
    "kernelspec": {
      "name": "python3",
      "display_name": "Python 3"
    },
    "language_info": {
      "name": "python"
    }
  },
  "cells": [
    {
      "cell_type": "code",
      "metadata": {
        "id": "rgipM1HAX38x"
      },
      "source": [
        "import pandas as pd\n",
        "import numpy as np\n",
        "import matplotlib.pyplot as plt\n",
        "import seaborn as sns\n",
        "import matplotlib.pyplot as plt\n",
        "from sklearn.impute import SimpleImputer\n",
        "from sklearn.neighbors import LocalOutlierFactor\n",
        "from scipy.stats import probplot\n",
        "from scipy.stats import zscore\n",
        "import warnings\n",
        "warnings.filterwarnings('ignore')\n",
        "sns.set_style('whitegrid')"
      ],
      "execution_count": 88,
      "outputs": []
    },
    {
      "cell_type": "code",
      "metadata": {
        "id": "b-PSQ130F_B_"
      },
      "source": [
        "df = pd.read_csv(\"/content/drive/MyDrive/cs6304/cs6304_dataset.csv\")\n",
        "df['STATION CODE'] = df['STATION CODE'].astype(np.object)"
      ],
      "execution_count": 89,
      "outputs": []
    },
    {
      "cell_type": "code",
      "metadata": {
        "colab": {
          "base_uri": "https://localhost:8080/",
          "height": 206
        },
        "id": "EGrn524Qhe20",
        "outputId": "68eb9914-b411-4636-e70f-984a36783732"
      },
      "source": [
        "df.head()"
      ],
      "execution_count": 90,
      "outputs": [
        {
          "output_type": "execute_result",
          "data": {
            "text/html": [
              "<div>\n",
              "<style scoped>\n",
              "    .dataframe tbody tr th:only-of-type {\n",
              "        vertical-align: middle;\n",
              "    }\n",
              "\n",
              "    .dataframe tbody tr th {\n",
              "        vertical-align: top;\n",
              "    }\n",
              "\n",
              "    .dataframe thead th {\n",
              "        text-align: right;\n",
              "    }\n",
              "</style>\n",
              "<table border=\"1\" class=\"dataframe\">\n",
              "  <thead>\n",
              "    <tr style=\"text-align: right;\">\n",
              "      <th></th>\n",
              "      <th>STATION CODE</th>\n",
              "      <th>LOCATIONS</th>\n",
              "      <th>STATE</th>\n",
              "      <th>Temp</th>\n",
              "      <th>DO</th>\n",
              "      <th>PH</th>\n",
              "      <th>Conductivity</th>\n",
              "      <th>BOD</th>\n",
              "      <th>NI</th>\n",
              "      <th>Fec_col</th>\n",
              "      <th>Tot_col</th>\n",
              "      <th>year</th>\n",
              "    </tr>\n",
              "  </thead>\n",
              "  <tbody>\n",
              "    <tr>\n",
              "      <th>0</th>\n",
              "      <td>1393</td>\n",
              "      <td>DAMANGANGA AT D/S OF MADHUBAN, DAMAN</td>\n",
              "      <td>DAMAN &amp; DIU</td>\n",
              "      <td>30.6</td>\n",
              "      <td>6.7</td>\n",
              "      <td>7.5</td>\n",
              "      <td>203.0</td>\n",
              "      <td>1.8965</td>\n",
              "      <td>0.1</td>\n",
              "      <td>11.0</td>\n",
              "      <td>27.0</td>\n",
              "      <td>2014.0</td>\n",
              "    </tr>\n",
              "    <tr>\n",
              "      <th>1</th>\n",
              "      <td>1399</td>\n",
              "      <td>ZUARI AT D/S OF PT. WHERE KUMBARJRIA CANAL JOI...</td>\n",
              "      <td>GOA</td>\n",
              "      <td>29.8</td>\n",
              "      <td>5.7</td>\n",
              "      <td>7.2</td>\n",
              "      <td>189.0</td>\n",
              "      <td>2.0000</td>\n",
              "      <td>0.2</td>\n",
              "      <td>4953.0</td>\n",
              "      <td>8391.0</td>\n",
              "      <td>2014.0</td>\n",
              "    </tr>\n",
              "    <tr>\n",
              "      <th>2</th>\n",
              "      <td>1475</td>\n",
              "      <td>ZUARI AT PANCHAWADI</td>\n",
              "      <td>GOA</td>\n",
              "      <td>29.5</td>\n",
              "      <td>6.3</td>\n",
              "      <td>6.9</td>\n",
              "      <td>179.0</td>\n",
              "      <td>1.7000</td>\n",
              "      <td>0.1</td>\n",
              "      <td>3243.0</td>\n",
              "      <td>5330.0</td>\n",
              "      <td>2014.0</td>\n",
              "    </tr>\n",
              "    <tr>\n",
              "      <th>3</th>\n",
              "      <td>3181</td>\n",
              "      <td>RIVER ZUARI AT BORIM BRIDGE</td>\n",
              "      <td>GOA</td>\n",
              "      <td>29.7</td>\n",
              "      <td>5.8</td>\n",
              "      <td>6.9</td>\n",
              "      <td>64.0</td>\n",
              "      <td>3.8000</td>\n",
              "      <td>0.5</td>\n",
              "      <td>5382.0</td>\n",
              "      <td>8443.0</td>\n",
              "      <td>2014.0</td>\n",
              "    </tr>\n",
              "    <tr>\n",
              "      <th>4</th>\n",
              "      <td>3182</td>\n",
              "      <td>RIVER ZUARI AT MARCAIM JETTY</td>\n",
              "      <td>GOA</td>\n",
              "      <td>29.5</td>\n",
              "      <td>5.8</td>\n",
              "      <td>7.3</td>\n",
              "      <td>83.0</td>\n",
              "      <td>1.9000</td>\n",
              "      <td>0.4</td>\n",
              "      <td>3428.0</td>\n",
              "      <td>5500.0</td>\n",
              "      <td>2014.0</td>\n",
              "    </tr>\n",
              "  </tbody>\n",
              "</table>\n",
              "</div>"
            ],
            "text/plain": [
              "  STATION CODE  ...    year\n",
              "0         1393  ...  2014.0\n",
              "1         1399  ...  2014.0\n",
              "2         1475  ...  2014.0\n",
              "3         3181  ...  2014.0\n",
              "4         3182  ...  2014.0\n",
              "\n",
              "[5 rows x 12 columns]"
            ]
          },
          "metadata": {},
          "execution_count": 90
        }
      ]
    },
    {
      "cell_type": "code",
      "metadata": {
        "colab": {
          "base_uri": "https://localhost:8080/"
        },
        "id": "TON2hPjhhkQr",
        "outputId": "01e4ad2d-4bcc-4727-f321-24fe92a03643"
      },
      "source": [
        "df.shape"
      ],
      "execution_count": 91,
      "outputs": [
        {
          "output_type": "execute_result",
          "data": {
            "text/plain": [
              "(1898, 12)"
            ]
          },
          "metadata": {},
          "execution_count": 91
        }
      ]
    },
    {
      "cell_type": "code",
      "metadata": {
        "id": "UM6rkVKSkLCJ"
      },
      "source": [
        "df_num = df.select_dtypes(exclude=\"object\")"
      ],
      "execution_count": 92,
      "outputs": []
    },
    {
      "cell_type": "code",
      "metadata": {
        "colab": {
          "base_uri": "https://localhost:8080/"
        },
        "id": "vCEXQCwBkmjo",
        "outputId": "42164b07-c78c-42c1-d0d2-9e36387a9216"
      },
      "source": [
        "# Using Z-Score Normalization to detect outliers\n",
        "\n",
        "df_num_norm = df_num.apply(zscore, axis=0)\n",
        "\n",
        "\n",
        "def indices_of_greater_than_3(df_norm):\n",
        "    indices_arr = []\n",
        "    n_col = df_norm.shape[1]\n",
        "    for index in range(n_col):\n",
        "        col_index = df_norm.iloc[: ,index]\n",
        "        greater_than_3 = df_norm[col_index > 3]\n",
        "        greater_than_3_index = greater_than_3.index\n",
        "        indices_arr.extend(greater_than_3_index)\n",
        "    return indices_arr\n",
        "\n",
        "indices_arr = indices_of_greater_than_3(df_num_norm)\n",
        "print(\"Number of outliers using Z-Score method-\",len(indices_arr))"
      ],
      "execution_count": 93,
      "outputs": [
        {
          "output_type": "stream",
          "name": "stdout",
          "text": [
            "Number of outliers using Z-Score method- 125\n"
          ]
        }
      ]
    },
    {
      "cell_type": "code",
      "metadata": {
        "colab": {
          "base_uri": "https://localhost:8080/"
        },
        "id": "bkc1EEGYnIWS",
        "outputId": "2883496b-4169-40e1-d8b6-ead2a0b1c076"
      },
      "source": [
        "df.drop(indices_arr, axis=0, inplace=True)\n",
        "df.shape"
      ],
      "execution_count": 94,
      "outputs": [
        {
          "output_type": "execute_result",
          "data": {
            "text/plain": [
              "(1785, 12)"
            ]
          },
          "metadata": {},
          "execution_count": 94
        }
      ]
    },
    {
      "cell_type": "code",
      "metadata": {
        "id": "RjGfEBY3nwGv"
      },
      "source": [
        "# Calculating Water Quality Index of each sample\n",
        "df_num = df.select_dtypes(exclude=\"object\")\n",
        "# Dropping year and Temp attribute because they are not used for computing WQI\n",
        "df_num.drop([\"year\", \"Temp\"], axis=1, inplace=True)\n",
        "\n",
        "# Weight Vector(wi)\n",
        "wi = np.array([0.2213, 0.2604, 0.0022, 0.4426, 0.0492, 0.0221, 0.0022])\n",
        "\n",
        "# Standard values of parameters(si)\n",
        "si = np.array([10, 8.5, 1000, 5, 45, 100, 1000])\n",
        "\n",
        "# Ideal values of paramters(vIdeal)\n",
        "vIdeal = np.array([14.6, 7, 0, 0, 0, 0, 0])\n",
        "\n",
        "def calc_wqi(sample):\n",
        "    wqi_sample = 0\n",
        "    num_col = 7\n",
        "    for index in range(num_col):\n",
        "        v_index = sample[index] # Obeserved value of sample at index\n",
        "        v_index_ideal = vIdeal[index] # Ideal value of obeserved value\n",
        "        w_index = wi[index] # weight of corresponding parameter of obeserved value\n",
        "        std_index = si[index] # Standard value recommended for obeserved value\n",
        "        q_index = (v_index - v_index_ideal) / (std_index - v_index_ideal)\n",
        "        q_index = q_index * 100 # Final qi value of obeserved value\n",
        "        wqi_sample += q_index*w_index\n",
        "    return wqi_sample"
      ],
      "execution_count": 96,
      "outputs": []
    },
    {
      "cell_type": "code",
      "metadata": {
        "id": "ztQeOb4_nwzJ"
      },
      "source": [
        "# Computing WQI for the whole dataset\n",
        "def calc_wqi_for_df(df):\n",
        "    wqi_arr = []\n",
        "    for index in range(df.shape[0]):\n",
        "        index_row = df.iloc[index, :]\n",
        "        wqi_row = calc_wqi(index_row)\n",
        "        wqi_arr.append(wqi_row)\n",
        "    return wqi_arr"
      ],
      "execution_count": 97,
      "outputs": []
    },
    {
      "cell_type": "code",
      "metadata": {
        "id": "JFxdH18xoSio"
      },
      "source": [
        "wqi_arr = calc_wqi_for_df(df_num)\n",
        "# Converting oridnary array to numpy array\n",
        "wqi_arr = np.array(wqi_arr)\n",
        "wqi_arr = np.reshape(wqi_arr, (-1, 1))\n",
        "\n",
        "# Resetting index values of the dataframes\n",
        "wqi_arr_df = pd.DataFrame(wqi_arr, columns=[\"WQI\"]).reset_index()\n",
        "df = df.reset_index()"
      ],
      "execution_count": 98,
      "outputs": []
    },
    {
      "cell_type": "code",
      "metadata": {
        "colab": {
          "base_uri": "https://localhost:8080/"
        },
        "id": "hQewlBuqoZqt",
        "outputId": "99d3a7a1-33eb-45f5-9d45-70272dac5ec2"
      },
      "source": [
        "df_wqi = pd.concat([df, pd.DataFrame(wqi_arr, columns=[\"WQI\"])], axis=1)\n",
        "df_wqi.drop(\"index\", axis=1, inplace=True)\n",
        "df_wqi.shape"
      ],
      "execution_count": 99,
      "outputs": [
        {
          "output_type": "execute_result",
          "data": {
            "text/plain": [
              "(1785, 13)"
            ]
          },
          "metadata": {},
          "execution_count": 99
        }
      ]
    },
    {
      "cell_type": "code",
      "metadata": {
        "colab": {
          "base_uri": "https://localhost:8080/",
          "height": 206
        },
        "id": "-FdlM889ofDo",
        "outputId": "161b8e95-7801-4471-e829-2aceab08d878"
      },
      "source": [
        "df_wqi[(df_wqi[\"WQI\"] < 0)]"
      ],
      "execution_count": 100,
      "outputs": [
        {
          "output_type": "execute_result",
          "data": {
            "text/html": [
              "<div>\n",
              "<style scoped>\n",
              "    .dataframe tbody tr th:only-of-type {\n",
              "        vertical-align: middle;\n",
              "    }\n",
              "\n",
              "    .dataframe tbody tr th {\n",
              "        vertical-align: top;\n",
              "    }\n",
              "\n",
              "    .dataframe thead th {\n",
              "        text-align: right;\n",
              "    }\n",
              "</style>\n",
              "<table border=\"1\" class=\"dataframe\">\n",
              "  <thead>\n",
              "    <tr style=\"text-align: right;\">\n",
              "      <th></th>\n",
              "      <th>STATION CODE</th>\n",
              "      <th>LOCATIONS</th>\n",
              "      <th>STATE</th>\n",
              "      <th>Temp</th>\n",
              "      <th>DO</th>\n",
              "      <th>PH</th>\n",
              "      <th>Conductivity</th>\n",
              "      <th>BOD</th>\n",
              "      <th>NI</th>\n",
              "      <th>Fec_col</th>\n",
              "      <th>Tot_col</th>\n",
              "      <th>year</th>\n",
              "      <th>WQI</th>\n",
              "    </tr>\n",
              "  </thead>\n",
              "  <tbody>\n",
              "    <tr>\n",
              "      <th>196</th>\n",
              "      <td>3375</td>\n",
              "      <td>LUKHA RIVER AT MYNDIHATI (TRIBUTARY OF LUNAR)</td>\n",
              "      <td>MEGHALAYA</td>\n",
              "      <td>20.5</td>\n",
              "      <td>6.7</td>\n",
              "      <td>2.7</td>\n",
              "      <td>1350.0</td>\n",
              "      <td>3.3000</td>\n",
              "      <td>1.10</td>\n",
              "      <td>7.0</td>\n",
              "      <td>16.0</td>\n",
              "      <td>2014.0</td>\n",
              "      <td>-6.855044</td>\n",
              "    </tr>\n",
              "    <tr>\n",
              "      <th>231</th>\n",
              "      <td>2</td>\n",
              "      <td>DAMANGANGA AT D/S OF MADHUBAN, DAMAN</td>\n",
              "      <td>DAMAN &amp; DIU</td>\n",
              "      <td>27.0</td>\n",
              "      <td>6.7</td>\n",
              "      <td>0.0</td>\n",
              "      <td>208.0</td>\n",
              "      <td>1.8965</td>\n",
              "      <td>0.52</td>\n",
              "      <td>233.0</td>\n",
              "      <td>465.0</td>\n",
              "      <td>2013.0</td>\n",
              "      <td>-61.372099</td>\n",
              "    </tr>\n",
              "    <tr>\n",
              "      <th>234</th>\n",
              "      <td>1865</td>\n",
              "      <td>RIVER DHADAR AT KOTHADA</td>\n",
              "      <td>GUJARAT</td>\n",
              "      <td>27.0</td>\n",
              "      <td>6.7</td>\n",
              "      <td>0.0</td>\n",
              "      <td>506.0</td>\n",
              "      <td>1.8965</td>\n",
              "      <td>6.00</td>\n",
              "      <td>26.0</td>\n",
              "      <td>227.0</td>\n",
              "      <td>2013.0</td>\n",
              "      <td>-65.334452</td>\n",
              "    </tr>\n",
              "    <tr>\n",
              "      <th>446</th>\n",
              "      <td>3375</td>\n",
              "      <td>LUKHA RIVER</td>\n",
              "      <td>MEGHALAYA</td>\n",
              "      <td>21.3</td>\n",
              "      <td>6.8</td>\n",
              "      <td>2.7</td>\n",
              "      <td>1074.0</td>\n",
              "      <td>3.2000</td>\n",
              "      <td>2.33</td>\n",
              "      <td>4.0</td>\n",
              "      <td>11.0</td>\n",
              "      <td>2013.0</td>\n",
              "      <td>-8.214971</td>\n",
              "    </tr>\n",
              "    <tr>\n",
              "      <th>719</th>\n",
              "      <td>3375</td>\n",
              "      <td>LUKHA RIVER AT MYNDIHATI (TRIBUTARY OF LUNAR)</td>\n",
              "      <td>MEGHALAYA</td>\n",
              "      <td>25.0</td>\n",
              "      <td>6.9</td>\n",
              "      <td>2.6</td>\n",
              "      <td>1072.0</td>\n",
              "      <td>3.2000</td>\n",
              "      <td>1.17</td>\n",
              "      <td>3.0</td>\n",
              "      <td>21.0</td>\n",
              "      <td>2012.0</td>\n",
              "      <td>-10.579224</td>\n",
              "    </tr>\n",
              "  </tbody>\n",
              "</table>\n",
              "</div>"
            ],
            "text/plain": [
              "    STATION CODE  ...        WQI\n",
              "196         3375  ...  -6.855044\n",
              "231            2  ... -61.372099\n",
              "234         1865  ... -65.334452\n",
              "446         3375  ...  -8.214971\n",
              "719         3375  ... -10.579224\n",
              "\n",
              "[5 rows x 13 columns]"
            ]
          },
          "metadata": {},
          "execution_count": 100
        }
      ]
    },
    {
      "cell_type": "code",
      "metadata": {
        "id": "K9UN0YfPoh9H"
      },
      "source": [
        "# Removing the samples with negative WQI\n",
        "df_neg_indices = df_wqi[(df_wqi[\"WQI\"] < 0)].index\n",
        "df_wqi.drop(df_neg_indices, axis=0, inplace=True)"
      ],
      "execution_count": 101,
      "outputs": []
    },
    {
      "cell_type": "code",
      "metadata": {
        "id": "xGma_HVnokke"
      },
      "source": [
        "df_wqi[\"WQI clf\"] = df_wqi[\"WQI\"].apply(lambda x: (3 if (x <= 25)  \n",
        "                                        else(2 if (26<=x<=50) \n",
        "                                        else(1 if (51<=x<=75) \n",
        "                                        else 0))))"
      ],
      "execution_count": 102,
      "outputs": []
    },
    {
      "cell_type": "code",
      "metadata": {
        "colab": {
          "base_uri": "https://localhost:8080/",
          "height": 258
        },
        "id": "1_J5o7Ctowcd",
        "outputId": "3d3d4143-4432-49c2-e6e3-e2d012b5e700"
      },
      "source": [
        "df_wqi.tail()"
      ],
      "execution_count": 103,
      "outputs": [
        {
          "output_type": "execute_result",
          "data": {
            "text/html": [
              "<div>\n",
              "<style scoped>\n",
              "    .dataframe tbody tr th:only-of-type {\n",
              "        vertical-align: middle;\n",
              "    }\n",
              "\n",
              "    .dataframe tbody tr th {\n",
              "        vertical-align: top;\n",
              "    }\n",
              "\n",
              "    .dataframe thead th {\n",
              "        text-align: right;\n",
              "    }\n",
              "</style>\n",
              "<table border=\"1\" class=\"dataframe\">\n",
              "  <thead>\n",
              "    <tr style=\"text-align: right;\">\n",
              "      <th></th>\n",
              "      <th>STATION CODE</th>\n",
              "      <th>LOCATIONS</th>\n",
              "      <th>STATE</th>\n",
              "      <th>Temp</th>\n",
              "      <th>DO</th>\n",
              "      <th>PH</th>\n",
              "      <th>Conductivity</th>\n",
              "      <th>BOD</th>\n",
              "      <th>NI</th>\n",
              "      <th>Fec_col</th>\n",
              "      <th>Tot_col</th>\n",
              "      <th>year</th>\n",
              "      <th>WQI</th>\n",
              "      <th>WQI clf</th>\n",
              "    </tr>\n",
              "  </thead>\n",
              "  <tbody>\n",
              "    <tr>\n",
              "      <th>1780</th>\n",
              "      <td>1329</td>\n",
              "      <td>TAMBIRAPARANI AT RAIL BDG. NR. AMBASAMUDAM, TA...</td>\n",
              "      <td>TAMILNADU</td>\n",
              "      <td>27.0</td>\n",
              "      <td>7.4</td>\n",
              "      <td>7.00</td>\n",
              "      <td>88.5</td>\n",
              "      <td>0.977</td>\n",
              "      <td>0.186</td>\n",
              "      <td>27.0</td>\n",
              "      <td>105.0</td>\n",
              "      <td>2005.0</td>\n",
              "      <td>43.946271</td>\n",
              "      <td>2</td>\n",
              "    </tr>\n",
              "    <tr>\n",
              "      <th>1781</th>\n",
              "      <td>1330</td>\n",
              "      <td>TAMBIRAPARANI AT ARUMUGANERI, TAMILNADU</td>\n",
              "      <td>TAMILNADU</td>\n",
              "      <td>27.0</td>\n",
              "      <td>6.6</td>\n",
              "      <td>7.81</td>\n",
              "      <td>603.2</td>\n",
              "      <td>2.675</td>\n",
              "      <td>0.263</td>\n",
              "      <td>40.0</td>\n",
              "      <td>191.0</td>\n",
              "      <td>2005.0</td>\n",
              "      <td>77.315135</td>\n",
              "      <td>0</td>\n",
              "    </tr>\n",
              "    <tr>\n",
              "      <th>1782</th>\n",
              "      <td>1450</td>\n",
              "      <td>PALAR AT VANIYAMBADI WATER SUPPLY HEAD WORK, T...</td>\n",
              "      <td>TAMILNADU</td>\n",
              "      <td>28.0</td>\n",
              "      <td>6.6</td>\n",
              "      <td>7.49</td>\n",
              "      <td>571.5</td>\n",
              "      <td>2.091</td>\n",
              "      <td>0.256</td>\n",
              "      <td>151.0</td>\n",
              "      <td>273.0</td>\n",
              "      <td>2005.0</td>\n",
              "      <td>69.053768</td>\n",
              "      <td>1</td>\n",
              "    </tr>\n",
              "    <tr>\n",
              "      <th>1783</th>\n",
              "      <td>1403</td>\n",
              "      <td>GUMTI AT U/S SOUTH TRIPURA,TRIPURA</td>\n",
              "      <td>TRIPURA</td>\n",
              "      <td>28.0</td>\n",
              "      <td>5.4</td>\n",
              "      <td>7.16</td>\n",
              "      <td>75.8</td>\n",
              "      <td>2.092</td>\n",
              "      <td>0.520</td>\n",
              "      <td>404.0</td>\n",
              "      <td>513.0</td>\n",
              "      <td>2005.0</td>\n",
              "      <td>74.670773</td>\n",
              "      <td>1</td>\n",
              "    </tr>\n",
              "    <tr>\n",
              "      <th>1784</th>\n",
              "      <td>1404</td>\n",
              "      <td>GUMTI AT D/S SOUTH TRIPURA, TRIPURA</td>\n",
              "      <td>TRIPURA</td>\n",
              "      <td>30.0</td>\n",
              "      <td>5.4</td>\n",
              "      <td>7.37</td>\n",
              "      <td>104.8</td>\n",
              "      <td>1.802</td>\n",
              "      <td>0.215</td>\n",
              "      <td>456.0</td>\n",
              "      <td>557.0</td>\n",
              "      <td>2005.0</td>\n",
              "      <td>76.881207</td>\n",
              "      <td>0</td>\n",
              "    </tr>\n",
              "  </tbody>\n",
              "</table>\n",
              "</div>"
            ],
            "text/plain": [
              "     STATION CODE  ... WQI clf\n",
              "1780         1329  ...       2\n",
              "1781         1330  ...       0\n",
              "1782         1450  ...       1\n",
              "1783         1403  ...       1\n",
              "1784         1404  ...       0\n",
              "\n",
              "[5 rows x 14 columns]"
            ]
          },
          "metadata": {},
          "execution_count": 103
        }
      ]
    },
    {
      "cell_type": "code",
      "metadata": {
        "colab": {
          "base_uri": "https://localhost:8080/",
          "height": 300
        },
        "id": "hgAfeTRVtYyi",
        "outputId": "7e409f4d-3bc3-45d8-bd50-3c683bee783d"
      },
      "source": [
        "df_wqi.describe()"
      ],
      "execution_count": 105,
      "outputs": [
        {
          "output_type": "execute_result",
          "data": {
            "text/html": [
              "<div>\n",
              "<style scoped>\n",
              "    .dataframe tbody tr th:only-of-type {\n",
              "        vertical-align: middle;\n",
              "    }\n",
              "\n",
              "    .dataframe tbody tr th {\n",
              "        vertical-align: top;\n",
              "    }\n",
              "\n",
              "    .dataframe thead th {\n",
              "        text-align: right;\n",
              "    }\n",
              "</style>\n",
              "<table border=\"1\" class=\"dataframe\">\n",
              "  <thead>\n",
              "    <tr style=\"text-align: right;\">\n",
              "      <th></th>\n",
              "      <th>Temp</th>\n",
              "      <th>DO</th>\n",
              "      <th>PH</th>\n",
              "      <th>Conductivity</th>\n",
              "      <th>BOD</th>\n",
              "      <th>NI</th>\n",
              "      <th>Fec_col</th>\n",
              "      <th>Tot_col</th>\n",
              "      <th>year</th>\n",
              "      <th>WQI</th>\n",
              "      <th>WQI clf</th>\n",
              "    </tr>\n",
              "  </thead>\n",
              "  <tbody>\n",
              "    <tr>\n",
              "      <th>count</th>\n",
              "      <td>1780.000000</td>\n",
              "      <td>1780.000000</td>\n",
              "      <td>1780.000000</td>\n",
              "      <td>1780.000000</td>\n",
              "      <td>1780.000000</td>\n",
              "      <td>1780.000000</td>\n",
              "      <td>1780.000000</td>\n",
              "      <td>1780.000000</td>\n",
              "      <td>1780.000000</td>\n",
              "      <td>1780.000000</td>\n",
              "      <td>1780.000000</td>\n",
              "    </tr>\n",
              "    <tr>\n",
              "      <th>mean</th>\n",
              "      <td>26.241931</td>\n",
              "      <td>6.432263</td>\n",
              "      <td>7.228045</td>\n",
              "      <td>1006.325691</td>\n",
              "      <td>3.961788</td>\n",
              "      <td>1.119716</td>\n",
              "      <td>2264.420646</td>\n",
              "      <td>7242.598876</td>\n",
              "      <td>2010.380337</td>\n",
              "      <td>130.303409</td>\n",
              "      <td>0.715169</td>\n",
              "    </tr>\n",
              "    <tr>\n",
              "      <th>std</th>\n",
              "      <td>3.231044</td>\n",
              "      <td>1.258875</td>\n",
              "      <td>0.582761</td>\n",
              "      <td>2764.600752</td>\n",
              "      <td>7.130494</td>\n",
              "      <td>1.629483</td>\n",
              "      <td>8259.474360</td>\n",
              "      <td>40230.193629</td>\n",
              "      <td>2.704223</td>\n",
              "      <td>222.261326</td>\n",
              "      <td>0.731754</td>\n",
              "    </tr>\n",
              "    <tr>\n",
              "      <th>min</th>\n",
              "      <td>10.000000</td>\n",
              "      <td>0.000000</td>\n",
              "      <td>2.900000</td>\n",
              "      <td>11.000000</td>\n",
              "      <td>0.100000</td>\n",
              "      <td>0.000000</td>\n",
              "      <td>0.000000</td>\n",
              "      <td>0.000000</td>\n",
              "      <td>2005.000000</td>\n",
              "      <td>16.795814</td>\n",
              "      <td>0.000000</td>\n",
              "    </tr>\n",
              "    <tr>\n",
              "      <th>25%</th>\n",
              "      <td>25.000000</td>\n",
              "      <td>6.000000</td>\n",
              "      <td>6.900000</td>\n",
              "      <td>83.000000</td>\n",
              "      <td>1.100000</td>\n",
              "      <td>0.263000</td>\n",
              "      <td>46.000000</td>\n",
              "      <td>108.750000</td>\n",
              "      <td>2008.000000</td>\n",
              "      <td>54.641036</td>\n",
              "      <td>0.000000</td>\n",
              "    </tr>\n",
              "    <tr>\n",
              "      <th>50%</th>\n",
              "      <td>27.000000</td>\n",
              "      <td>6.700000</td>\n",
              "      <td>7.224500</td>\n",
              "      <td>183.000000</td>\n",
              "      <td>1.800000</td>\n",
              "      <td>0.520000</td>\n",
              "      <td>233.000000</td>\n",
              "      <td>465.000000</td>\n",
              "      <td>2011.000000</td>\n",
              "      <td>69.840286</td>\n",
              "      <td>1.000000</td>\n",
              "    </tr>\n",
              "    <tr>\n",
              "      <th>75%</th>\n",
              "      <td>28.200000</td>\n",
              "      <td>7.200000</td>\n",
              "      <td>7.600000</td>\n",
              "      <td>489.250000</td>\n",
              "      <td>3.400000</td>\n",
              "      <td>1.100000</td>\n",
              "      <td>672.500000</td>\n",
              "      <td>1650.000000</td>\n",
              "      <td>2013.000000</td>\n",
              "      <td>94.348696</td>\n",
              "      <td>1.000000</td>\n",
              "    </tr>\n",
              "    <tr>\n",
              "      <th>max</th>\n",
              "      <td>35.000000</td>\n",
              "      <td>10.000000</td>\n",
              "      <td>9.010000</td>\n",
              "      <td>18569.000000</td>\n",
              "      <td>88.000000</td>\n",
              "      <td>13.200000</td>\n",
              "      <td>150250.000000</td>\n",
              "      <td>967500.000000</td>\n",
              "      <td>2014.000000</td>\n",
              "      <td>3524.421534</td>\n",
              "      <td>3.000000</td>\n",
              "    </tr>\n",
              "  </tbody>\n",
              "</table>\n",
              "</div>"
            ],
            "text/plain": [
              "              Temp           DO  ...          WQI      WQI clf\n",
              "count  1780.000000  1780.000000  ...  1780.000000  1780.000000\n",
              "mean     26.241931     6.432263  ...   130.303409     0.715169\n",
              "std       3.231044     1.258875  ...   222.261326     0.731754\n",
              "min      10.000000     0.000000  ...    16.795814     0.000000\n",
              "25%      25.000000     6.000000  ...    54.641036     0.000000\n",
              "50%      27.000000     6.700000  ...    69.840286     1.000000\n",
              "75%      28.200000     7.200000  ...    94.348696     1.000000\n",
              "max      35.000000    10.000000  ...  3524.421534     3.000000\n",
              "\n",
              "[8 rows x 11 columns]"
            ]
          },
          "metadata": {},
          "execution_count": 105
        }
      ]
    },
    {
      "cell_type": "code",
      "metadata": {
        "id": "vM00wH0itwyP"
      },
      "source": [
        ""
      ],
      "execution_count": 104,
      "outputs": []
    }
  ]
}