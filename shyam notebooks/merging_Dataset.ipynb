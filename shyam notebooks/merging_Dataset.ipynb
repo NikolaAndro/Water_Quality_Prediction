{
  "nbformat": 4,
  "nbformat_minor": 0,
  "metadata": {
    "colab": {
      "name": "merging_Dataset.ipynb",
      "provenance": []
    },
    "kernelspec": {
      "name": "python3",
      "display_name": "Python 3"
    },
    "language_info": {
      "name": "python"
    }
  },
  "cells": [
    {
      "cell_type": "code",
      "metadata": {
        "id": "tofDi2cphYli"
      },
      "source": [
        "import pandas as pd\n",
        "import numpy as np\n",
        "import seaborn as sns\n",
        "import matplotlib.pyplot as plt\n",
        "import glob"
      ],
      "execution_count": 67,
      "outputs": []
    },
    {
      "cell_type": "code",
      "metadata": {
        "id": "TIhNR8NKFnmX"
      },
      "source": [
        "rename_dict = {\n",
        "    'Station Code':'STATION CODE',\n",
        "    'Locations':'LOCATIONS',\n",
        "    'State Name':'STATE',\n",
        "    'CONDUCTIVITY (µmhos/cm)] - Min': 'CONDUCTIVITY (µmhos/cm) : Min',\n",
        "    'CONDUCTIVITY (µmhos/cm)] - Max': 'CONDUCTIVITY (µmhos/cm) : Max',\n",
        "    'CONDUCTIVITY (µmhos/cm)] - Mean': 'CONDUCTIVITY (µmhos/cm) : Mean',\n",
        "    'CONDUCTIVITY (µmhos/cm)  : Min':'CONDUCTIVITY (µmhos/cm) : Min',\n",
        "    'CONDUCTIVITY (µmhos/cm)  : Max': 'CONDUCTIVITY (µmhos/cm) : Max',\n",
        "    'CONDUCTIVITY (µmhos/cm)  : Mean':'CONDUCTIVITY (µmhos/cm) : Mean',\n",
        "    'CONDUCTIVITY (µmhos/cm)-Minimum':'CONDUCTIVITY (µmhos/cm) : Min',\n",
        "    'CONDUCTIVITY (µmhos/cm)-Maximum':'CONDUCTIVITY (µmhos/cm) : Max',\n",
        "    'CONDUCTIVITY (µmhos/cm)-Mean':'CONDUCTIVITY (µmhos/cm) : Mean',\n",
        "    'pH : Min : 6.5-8.5': 'pH-Minimum',\n",
        "    'pH : Max : 6.5-8.5': 'pH-Maximum',\n",
        "    'pH : Mean : 6.5-8.5': 'pH-Mean',\n",
        "    'pH [6.5-8.5] - Min':'pH-Minimum',\n",
        "    'pH [6.5-8.5] - Max':'pH-Maximum',\n",
        "    'pH [6.5-8.5] - Mean':'pH-Mean',\n",
        "    'pH  : Min  : 6.5-8.5':'pH-Minimum',\n",
        "    'pH  : Max  : 6.5-8.5':'pH-Maximum',\n",
        "    'pH  : Mean  : 6.5-8.5':'pH-Mean',\n",
        "    'B.O.D. (mg/l) [< 3 mg/l] - Min': 'B.O.D. (mg/l) : Min : < 3 mg/l',\n",
        "    'B.O.D. (mg/l) [< 3 mg/l] - Max': 'B.O.D. (mg/l) : Max : < 3 mg/l',\n",
        "    'B.O.D. (mg/l) [< 3 mg/l] - Mean': 'B.O.D. (mg/l) : Mean : < 3 mg/l',\n",
        "    'B.O.D. (mg/l)  : Min  : < 3 mg/l':'B.O.D. (mg/l) : Min : < 3 mg/l',\n",
        "    'B.O.D. (mg/l)  : Max  : < 3 mg/l':'B.O.D. (mg/l) : Max : < 3 mg/l',\n",
        "    'B.O.D. (mg/l)  : Mean  : < 3 mg/l':'B.O.D. (mg/l) : Mean : < 3 mg/l',\n",
        "    'Biochemical oxygen demand (B.O.D.) (mg/l)-Minimum':'B.O.D. (mg/l) : Min : < 3 mg/l',\n",
        "    'Biochemical oxygen demand (B.O.D.) (mg/l)-Maximum':'B.O.D. (mg/l) : Max : < 3 mg/l',\n",
        "    'Biochemical oxygen demand (B.O.D.) (mg/l)-Mean':'B.O.D. (mg/l) : Mean : < 3 mg/l',\n",
        "    'NITRATE- N+ NITRITE-N (mg/l)] - Min':'NITRATE- N+ NITRITE-N (mg/l) : Min',\n",
        "    'NITRATE- N+ NITRITE-N (mg/l)] - Max':'NITRATE- N+ NITRITE-N (mg/l) : Max',\n",
        "    'NITRATE- N+ NITRITE-N (mg/l)] - Mean':'NITRATE- N+ NITRITE-N (mg/l) : Mean',\n",
        "    'NITRATE- N+ NITRITE-N (mg/l)  : Min':'NITRATE- N+ NITRITE-N (mg/l) : Min',\n",
        "    'NITRATE- N+ NITRITE-N (mg/l)  : Max':'NITRATE- N+ NITRITE-N (mg/l) : Max',\n",
        "    'NITRATE- N+ NITRITE-N (mg/l)  : Mean':'NITRATE- N+ NITRITE-N (mg/l) : Mean',\n",
        "    'NITRATE- N (mg/l)-Minimum': 'NITRATE- N+ NITRITE-N (mg/l) : Min',\n",
        "    'NITRATE- N (mg/l)-Maximum':'NITRATE- N+ NITRITE-N (mg/l) : Max',\n",
        "    'NITRATE- N (mg/l)-Mean':'NITRATE- N+ NITRITE-N (mg/l) : Mean',\n",
        "    'NITRITE-N (mg/l)-Minimum':'NITRATE- N+ NITRITE-N (mg/l) : Min',\n",
        "    'NITRITE-N (mg/l)-Maximum':'NITRATE- N+ NITRITE-N (mg/l) : Max',\n",
        "    'NITRITE-N (mg/l)-Mean':'NITRATE- N+ NITRITE-N (mg/l) : Mean',\n",
        "    'FECAL COLIFORM (MPN/100ml) [< 2500 MPN/100ml] - Min':'FECAL COLIFORM (MPN/100ml) : Min : < 2500 MPN/100ml',\n",
        "    'FECAL COLIFORM (MPN/100ml) [< 2500 MPN/100ml] - Max':'FECAL COLIFORM (MPN/100ml) : Max : < 2500 MPN/100ml',\n",
        "    'FECAL COLIFORM (MPN/100ml) [< 2500 MPN/100ml] - Mean':'FECAL COLIFORM (MPN/100ml) : Mean : < 2500 MPN/100ml',\n",
        "    'FECAL COLIFORM (MPN/100ml)  : Min  : < 2500 MPN/100ml':'FECAL COLIFORM (MPN/100ml) : Min : < 2500 MPN/100ml',\n",
        "    'FECAL COLIFORM (MPN/100ml)  : Max  : < 2500 MPN/100ml':'FECAL COLIFORM (MPN/100ml) : Max : < 2500 MPN/100ml',\n",
        "    'FECAL COLIFORM (MPN/100ml)  : Mean  : < 2500 MPN/100ml':'FECAL COLIFORM (MPN/100ml) : Mean : < 2500 MPN/100ml',\n",
        "    'FECAL COLIFORM (MPN/100ml)-Minimum':'FECAL COLIFORM (MPN/100ml) : Min : < 2500 MPN/100ml',\n",
        "    'FECAL COLIFORM (MPN/100ml)-Maximum':'FECAL COLIFORM (MPN/100ml) : Max : < 2500 MPN/100ml',\n",
        "    'FECAL COLIFORM (MPN/100ml)-Mean':'FECAL COLIFORM (MPN/100ml) : Mean : < 2500 MPN/100ml',\n",
        "    'TOTAL COLIFORM (MPN/100ml) : Min : < 5000 MPN/100ml':'TOTAL COLIFORM (MPN/100ml)-Minimum',\n",
        "    'TOTAL COLIFORM (MPN/100ml) : Max : < 5000 MPN/100ml':'TOTAL COLIFORM (MPN/100ml)-Maximum',\n",
        "    'TOTAL COLIFORM (MPN/100ml) : Mean : < 5000 MPN/100ml':'TOTAL COLIFORM (MPN/100ml)-Mean',\n",
        "    'TOTAL COLIFORM (MPN/100ml) [< 5000 MPN/100ml] - Min':'TOTAL COLIFORM (MPN/100ml)-Minimum',\n",
        "    'TOTAL COLIFORM (MPN/100ml) [< 5000 MPN/100ml] - Max':'TOTAL COLIFORM (MPN/100ml)-Maximum',\n",
        "    'TOTAL COLIFORM (MPN/100ml) [< 5000 MPN/100ml] - Mean':'TOTAL COLIFORM (MPN/100ml)-Mean',\n",
        "    'TOTAL COLIFORM (MPN/100ml)  : Min  : < 5000 MPN/100ml':'TOTAL COLIFORM (MPN/100ml)-Minimum',\n",
        "    'TOTAL COLIFORM (MPN/100ml)  : Max  : < 5000 MPN/100ml':'TOTAL COLIFORM (MPN/100ml)-Maximum',\n",
        "    'TOTAL COLIFORM (MPN/100ml)  : Mean  : < 5000 MPN/100ml':'TOTAL COLIFORM (MPN/100ml)-Mean',\n",
        "    'TEMPERATURE in degree Centigrade] - Min':'TEMPERATURE ºC : Min',\n",
        "    'TEMPERATURE in degree Centigrade] - Max':'TEMPERATURE ºC : Max',\n",
        "    'TEMPERATURE in degree Centigrade] - Mean':'TEMPERATURE ºC : Mean',\n",
        "    'TEMPERATURE ºC  : Min':'TEMPERATURE ºC : Min',\n",
        "    'TEMPERATURE ºC  : Max':'TEMPERATURE ºC : Max',\n",
        "    'TEMPERATURE ºC  : Mean':'TEMPERATURE ºC : Mean',\n",
        "    'TEMPERATURE (degree Centigrade)-Minimum':'TEMPERATURE ºC : Min',\n",
        "    'TEMPERATURE (degree Centigrade)-Maximum':'TEMPERATURE ºC : Max',\n",
        "    'TEMPERATURE (degree Centigrade)-Mean':'TEMPERATURE ºC : Mean',\n",
        "    'D.O. (mg/l) [> 4 mg/l] - Min':'Dissolved Oxygen(D.O.) (mg/l)-Minimum',\n",
        "    'D.O. (mg/l) [> 4 mg/l] - Max':'Dissolved Oxygen(D.O.) (mg/l)-Maximum',\n",
        "    'D.O. (mg/l) [> 4 mg/l] - Mean':'Dissolved Oxygen(D.O.) (mg/l)-Mean',\n",
        "    'D.O. (mg/l)  : Min  : > 4 mg/l':'Dissolved Oxygen(D.O.) (mg/l)-Minimum',\n",
        "    'D.O. (mg/l)  : Max  : > 4 mg/l':'Dissolved Oxygen(D.O.) (mg/l)-Maximum',\n",
        "    'D.O. (mg/l)  : Mean  : > 4 mg/l':'Dissolved Oxygen(D.O.) (mg/l)-Mean',\n",
        "    'D.O. (mg/l) : Min : > 4 mg/l':'Dissolved Oxygen(D.O.) (mg/l)-Minimum',\n",
        "    'D.O. (mg/l) : Max : > 4 mg/l':'Dissolved Oxygen(D.O.) (mg/l)-Maximum',\n",
        "    'D.O. (mg/l) : Mean : > 4 mg/l':'Dissolved Oxygen(D.O.) (mg/l)-Mean',\n",
        "\n",
        "}"
      ],
      "execution_count": 57,
      "outputs": []
    },
    {
      "cell_type": "code",
      "metadata": {
        "colab": {
          "base_uri": "https://localhost:8080/"
        },
        "id": "Vq-TTEz7Fps9",
        "outputId": "4bbce2eb-06dd-4717-c0ea-0be8410b239b"
      },
      "source": [
        "len(rename_dict)"
      ],
      "execution_count": 58,
      "outputs": [
        {
          "output_type": "execute_result",
          "data": {
            "text/plain": [
              "78"
            ]
          },
          "metadata": {},
          "execution_count": 58
        }
      ]
    },
    {
      "cell_type": "code",
      "metadata": {
        "id": "_gpM5wFohij9"
      },
      "source": [
        "files = glob.glob('/content/drive/MyDrive/cs6304/*.csv')\n",
        "count = 0\n",
        "for file in files:\n",
        "  if count == 0:\n",
        "    df = pd.read_csv(file, encoding= 'unicode_escape')\n",
        "    df.rename(columns=rename_dict, inplace=True)\n",
        "  else:\n",
        "    temp_df = pd.read_csv(file, encoding= 'unicode_escape')\n",
        "    temp_df.rename(columns=rename_dict, inplace=True)\n",
        "    temp_df = temp_df.loc[:,~temp_df.columns.duplicated()]\n",
        "    df = pd.concat([df, temp_df])\n",
        "  count+=1"
      ],
      "execution_count": 63,
      "outputs": []
    },
    {
      "cell_type": "code",
      "metadata": {
        "id": "NvhzX6ExiB8G",
        "colab": {
          "base_uri": "https://localhost:8080/",
          "height": 399
        },
        "outputId": "bb73de88-19a1-432e-e09e-750c4bbbc658"
      },
      "source": [
        "df.head()"
      ],
      "execution_count": 65,
      "outputs": [
        {
          "output_type": "execute_result",
          "data": {
            "text/html": [
              "<div>\n",
              "<style scoped>\n",
              "    .dataframe tbody tr th:only-of-type {\n",
              "        vertical-align: middle;\n",
              "    }\n",
              "\n",
              "    .dataframe tbody tr th {\n",
              "        vertical-align: top;\n",
              "    }\n",
              "\n",
              "    .dataframe thead th {\n",
              "        text-align: right;\n",
              "    }\n",
              "</style>\n",
              "<table border=\"1\" class=\"dataframe\">\n",
              "  <thead>\n",
              "    <tr style=\"text-align: right;\">\n",
              "      <th></th>\n",
              "      <th>STATION CODE</th>\n",
              "      <th>LOCATIONS</th>\n",
              "      <th>STATE</th>\n",
              "      <th>TEMPERATURE ºC : Min</th>\n",
              "      <th>TEMPERATURE ºC : Max</th>\n",
              "      <th>TEMPERATURE ºC : Mean</th>\n",
              "      <th>pH-Minimum</th>\n",
              "      <th>pH-Maximum</th>\n",
              "      <th>pH-Mean</th>\n",
              "      <th>CONDUCTIVITY (µmhos/cm) : Min</th>\n",
              "      <th>CONDUCTIVITY (µmhos/cm) : Max</th>\n",
              "      <th>CONDUCTIVITY (µmhos/cm) : Mean</th>\n",
              "      <th>B.O.D. (mg/l) : Min : &lt; 3 mg/l</th>\n",
              "      <th>B.O.D. (mg/l) : Max : &lt; 3 mg/l</th>\n",
              "      <th>B.O.D. (mg/l) : Mean : &lt; 3 mg/l</th>\n",
              "      <th>NITRATE- N+ NITRITE-N (mg/l) : Min</th>\n",
              "      <th>NITRATE- N+ NITRITE-N (mg/l) : Max</th>\n",
              "      <th>NITRATE- N+ NITRITE-N (mg/l) : Mean</th>\n",
              "      <th>FECAL COLIFORM (MPN/100ml) : Min : &lt; 2500 MPN/100ml</th>\n",
              "      <th>FECAL COLIFORM (MPN/100ml) : Max : &lt; 2500 MPN/100ml</th>\n",
              "      <th>FECAL COLIFORM (MPN/100ml) : Mean : &lt; 2500 MPN/100ml</th>\n",
              "      <th>TOTAL COLIFORM (MPN/100ml)-Minimum</th>\n",
              "      <th>TOTAL COLIFORM (MPN/100ml)-Maximum</th>\n",
              "      <th>TOTAL COLIFORM (MPN/100ml)-Mean</th>\n",
              "      <th>Dissolved Oxygen(D.O.) (mg/l)-Minimum</th>\n",
              "      <th>Dissolved Oxygen(D.O.) (mg/l)-Maximum</th>\n",
              "      <th>Dissolved Oxygen(D.O.) (mg/l)-Mean</th>\n",
              "      <th>Water Quality</th>\n",
              "    </tr>\n",
              "  </thead>\n",
              "  <tbody>\n",
              "    <tr>\n",
              "      <th>0</th>\n",
              "      <td>1533.0</td>\n",
              "      <td>*DIGBOI, TINSUKIA DISTT.,  ASSAM</td>\n",
              "      <td>Assam</td>\n",
              "      <td>23.0</td>\n",
              "      <td>24.0</td>\n",
              "      <td>23.5</td>\n",
              "      <td>6.4</td>\n",
              "      <td>6.6</td>\n",
              "      <td>6.5</td>\n",
              "      <td>734.0</td>\n",
              "      <td>762.0</td>\n",
              "      <td>748.0</td>\n",
              "      <td>0.7</td>\n",
              "      <td>2.0</td>\n",
              "      <td>1.4</td>\n",
              "      <td>5.4</td>\n",
              "      <td>8.6</td>\n",
              "      <td>7.0</td>\n",
              "      <td>0.0</td>\n",
              "      <td>36.0</td>\n",
              "      <td>18.0</td>\n",
              "      <td>0.0</td>\n",
              "      <td>24000.0</td>\n",
              "      <td>12000.0</td>\n",
              "      <td>NaN</td>\n",
              "      <td>NaN</td>\n",
              "      <td>NaN</td>\n",
              "      <td>NaN</td>\n",
              "    </tr>\n",
              "    <tr>\n",
              "      <th>1</th>\n",
              "      <td>1534.0</td>\n",
              "      <td>*KARBI  ANGLONG DISTT., ASSAM</td>\n",
              "      <td>Assam</td>\n",
              "      <td>23.0</td>\n",
              "      <td>24.0</td>\n",
              "      <td>23.5</td>\n",
              "      <td>6.2</td>\n",
              "      <td>6.5</td>\n",
              "      <td>6.4</td>\n",
              "      <td>205.0</td>\n",
              "      <td>470.0</td>\n",
              "      <td>338.0</td>\n",
              "      <td>0.7</td>\n",
              "      <td>1.5</td>\n",
              "      <td>1.1</td>\n",
              "      <td>0.2</td>\n",
              "      <td>1.2</td>\n",
              "      <td>0.7</td>\n",
              "      <td>0.0</td>\n",
              "      <td>150.0</td>\n",
              "      <td>75.0</td>\n",
              "      <td>0.0</td>\n",
              "      <td>11000.0</td>\n",
              "      <td>5500.0</td>\n",
              "      <td>NaN</td>\n",
              "      <td>NaN</td>\n",
              "      <td>NaN</td>\n",
              "      <td>NaN</td>\n",
              "    </tr>\n",
              "    <tr>\n",
              "      <th>2</th>\n",
              "      <td>1535.0</td>\n",
              "      <td>*SIBSAGAR , ASSAM</td>\n",
              "      <td>Assam</td>\n",
              "      <td>24.0</td>\n",
              "      <td>25.0</td>\n",
              "      <td>24.5</td>\n",
              "      <td>6.4</td>\n",
              "      <td>7.5</td>\n",
              "      <td>7.0</td>\n",
              "      <td>302.0</td>\n",
              "      <td>364.0</td>\n",
              "      <td>333.0</td>\n",
              "      <td>0.9</td>\n",
              "      <td>1.8</td>\n",
              "      <td>1.4</td>\n",
              "      <td>0.3</td>\n",
              "      <td>0.7</td>\n",
              "      <td>0.5</td>\n",
              "      <td>0.0</td>\n",
              "      <td>0.0</td>\n",
              "      <td>0.0</td>\n",
              "      <td>91.0</td>\n",
              "      <td>91.0</td>\n",
              "      <td>91.0</td>\n",
              "      <td>NaN</td>\n",
              "      <td>NaN</td>\n",
              "      <td>NaN</td>\n",
              "      <td>NaN</td>\n",
              "    </tr>\n",
              "    <tr>\n",
              "      <th>3</th>\n",
              "      <td>1536.0</td>\n",
              "      <td>*SIBSAGAR, ASSAM</td>\n",
              "      <td>Assam</td>\n",
              "      <td>20.0</td>\n",
              "      <td>25.0</td>\n",
              "      <td>22.5</td>\n",
              "      <td>5.5</td>\n",
              "      <td>5.8</td>\n",
              "      <td>5.7</td>\n",
              "      <td>696.0</td>\n",
              "      <td>885.0</td>\n",
              "      <td>791.0</td>\n",
              "      <td>1.3</td>\n",
              "      <td>2.4</td>\n",
              "      <td>1.9</td>\n",
              "      <td>0.1</td>\n",
              "      <td>0.4</td>\n",
              "      <td>0.3</td>\n",
              "      <td>0.0</td>\n",
              "      <td>0.0</td>\n",
              "      <td>0.0</td>\n",
              "      <td>0.0</td>\n",
              "      <td>91.0</td>\n",
              "      <td>46.0</td>\n",
              "      <td>NaN</td>\n",
              "      <td>NaN</td>\n",
              "      <td>NaN</td>\n",
              "      <td>NaN</td>\n",
              "    </tr>\n",
              "    <tr>\n",
              "      <th>4</th>\n",
              "      <td>1537.0</td>\n",
              "      <td>*(JORHAT, ASSAM</td>\n",
              "      <td>Assam</td>\n",
              "      <td>24.0</td>\n",
              "      <td>25.0</td>\n",
              "      <td>24.5</td>\n",
              "      <td>6.6</td>\n",
              "      <td>7.4</td>\n",
              "      <td>7.0</td>\n",
              "      <td>440.0</td>\n",
              "      <td>579.0</td>\n",
              "      <td>510.0</td>\n",
              "      <td>1.1</td>\n",
              "      <td>3.3</td>\n",
              "      <td>2.2</td>\n",
              "      <td>2.4</td>\n",
              "      <td>3.8</td>\n",
              "      <td>3.1</td>\n",
              "      <td>36.0</td>\n",
              "      <td>72.0</td>\n",
              "      <td>54.0</td>\n",
              "      <td>2100.0</td>\n",
              "      <td>4600.0</td>\n",
              "      <td>3350.0</td>\n",
              "      <td>NaN</td>\n",
              "      <td>NaN</td>\n",
              "      <td>NaN</td>\n",
              "      <td>NaN</td>\n",
              "    </tr>\n",
              "  </tbody>\n",
              "</table>\n",
              "</div>"
            ],
            "text/plain": [
              "   STATION CODE  ... Water Quality\n",
              "0        1533.0  ...           NaN\n",
              "1        1534.0  ...           NaN\n",
              "2        1535.0  ...           NaN\n",
              "3        1536.0  ...           NaN\n",
              "4        1537.0  ...           NaN\n",
              "\n",
              "[5 rows x 28 columns]"
            ]
          },
          "metadata": {},
          "execution_count": 65
        }
      ]
    },
    {
      "cell_type": "code",
      "metadata": {
        "id": "KxzBUmtDIM_m"
      },
      "source": [
        "required_cols = ['STATION CODE',\n",
        "'LOCATIONS',\n",
        "'STATE',\n",
        "]\n",
        "for col in df.columns:\n",
        "  if 'Mean' in col:\n",
        "     required_cols.append(col)"
      ],
      "execution_count": 75,
      "outputs": []
    },
    {
      "cell_type": "code",
      "metadata": {
        "id": "rJekeuyzJ629"
      },
      "source": [
        "df = df[required_cols]"
      ],
      "execution_count": 79,
      "outputs": []
    },
    {
      "cell_type": "code",
      "metadata": {
        "id": "zMaaVQoLn5tB",
        "colab": {
          "base_uri": "https://localhost:8080/",
          "height": 292
        },
        "outputId": "8443876d-cd00-4fbd-fdd6-2ac789ed30cf"
      },
      "source": [
        "df.head()"
      ],
      "execution_count": 80,
      "outputs": [
        {
          "output_type": "execute_result",
          "data": {
            "text/html": [
              "<div>\n",
              "<style scoped>\n",
              "    .dataframe tbody tr th:only-of-type {\n",
              "        vertical-align: middle;\n",
              "    }\n",
              "\n",
              "    .dataframe tbody tr th {\n",
              "        vertical-align: top;\n",
              "    }\n",
              "\n",
              "    .dataframe thead th {\n",
              "        text-align: right;\n",
              "    }\n",
              "</style>\n",
              "<table border=\"1\" class=\"dataframe\">\n",
              "  <thead>\n",
              "    <tr style=\"text-align: right;\">\n",
              "      <th></th>\n",
              "      <th>STATION CODE</th>\n",
              "      <th>LOCATIONS</th>\n",
              "      <th>STATE</th>\n",
              "      <th>TEMPERATURE ºC : Mean</th>\n",
              "      <th>pH-Mean</th>\n",
              "      <th>CONDUCTIVITY (µmhos/cm) : Mean</th>\n",
              "      <th>B.O.D. (mg/l) : Mean : &lt; 3 mg/l</th>\n",
              "      <th>NITRATE- N+ NITRITE-N (mg/l) : Mean</th>\n",
              "      <th>FECAL COLIFORM (MPN/100ml) : Mean : &lt; 2500 MPN/100ml</th>\n",
              "      <th>TOTAL COLIFORM (MPN/100ml)-Mean</th>\n",
              "      <th>Dissolved Oxygen(D.O.) (mg/l)-Mean</th>\n",
              "    </tr>\n",
              "  </thead>\n",
              "  <tbody>\n",
              "    <tr>\n",
              "      <th>0</th>\n",
              "      <td>1533.0</td>\n",
              "      <td>*DIGBOI, TINSUKIA DISTT.,  ASSAM</td>\n",
              "      <td>Assam</td>\n",
              "      <td>23.5</td>\n",
              "      <td>6.5</td>\n",
              "      <td>748.0</td>\n",
              "      <td>1.4</td>\n",
              "      <td>7.0</td>\n",
              "      <td>18.0</td>\n",
              "      <td>12000.0</td>\n",
              "      <td>NaN</td>\n",
              "    </tr>\n",
              "    <tr>\n",
              "      <th>1</th>\n",
              "      <td>1534.0</td>\n",
              "      <td>*KARBI  ANGLONG DISTT., ASSAM</td>\n",
              "      <td>Assam</td>\n",
              "      <td>23.5</td>\n",
              "      <td>6.4</td>\n",
              "      <td>338.0</td>\n",
              "      <td>1.1</td>\n",
              "      <td>0.7</td>\n",
              "      <td>75.0</td>\n",
              "      <td>5500.0</td>\n",
              "      <td>NaN</td>\n",
              "    </tr>\n",
              "    <tr>\n",
              "      <th>2</th>\n",
              "      <td>1535.0</td>\n",
              "      <td>*SIBSAGAR , ASSAM</td>\n",
              "      <td>Assam</td>\n",
              "      <td>24.5</td>\n",
              "      <td>7.0</td>\n",
              "      <td>333.0</td>\n",
              "      <td>1.4</td>\n",
              "      <td>0.5</td>\n",
              "      <td>0.0</td>\n",
              "      <td>91.0</td>\n",
              "      <td>NaN</td>\n",
              "    </tr>\n",
              "    <tr>\n",
              "      <th>3</th>\n",
              "      <td>1536.0</td>\n",
              "      <td>*SIBSAGAR, ASSAM</td>\n",
              "      <td>Assam</td>\n",
              "      <td>22.5</td>\n",
              "      <td>5.7</td>\n",
              "      <td>791.0</td>\n",
              "      <td>1.9</td>\n",
              "      <td>0.3</td>\n",
              "      <td>0.0</td>\n",
              "      <td>46.0</td>\n",
              "      <td>NaN</td>\n",
              "    </tr>\n",
              "    <tr>\n",
              "      <th>4</th>\n",
              "      <td>1537.0</td>\n",
              "      <td>*(JORHAT, ASSAM</td>\n",
              "      <td>Assam</td>\n",
              "      <td>24.5</td>\n",
              "      <td>7.0</td>\n",
              "      <td>510.0</td>\n",
              "      <td>2.2</td>\n",
              "      <td>3.1</td>\n",
              "      <td>54.0</td>\n",
              "      <td>3350.0</td>\n",
              "      <td>NaN</td>\n",
              "    </tr>\n",
              "  </tbody>\n",
              "</table>\n",
              "</div>"
            ],
            "text/plain": [
              "   STATION CODE  ... Dissolved Oxygen(D.O.) (mg/l)-Mean\n",
              "0        1533.0  ...                                NaN\n",
              "1        1534.0  ...                                NaN\n",
              "2        1535.0  ...                                NaN\n",
              "3        1536.0  ...                                NaN\n",
              "4        1537.0  ...                                NaN\n",
              "\n",
              "[5 rows x 11 columns]"
            ]
          },
          "metadata": {},
          "execution_count": 80
        }
      ]
    },
    {
      "cell_type": "code",
      "metadata": {
        "id": "1Tl1mUpKKRGw"
      },
      "source": [
        "df = df.rename(columns={\"Dissolved Oxygen(D.O.) (mg/l)-Mean\": \"DO\", \n",
        "                        \"CONDUCTIVITY (µmhos/cm) : Mean\": \"Conductivity\", \n",
        "                        \"B.O.D. (mg/l) : Mean : < 3 mg/l\": \"BOD\", \n",
        "                        \"NITRATE- N+ NITRITE-N (mg/l) : Mean\": \"NI\", \n",
        "                        \"FECAL COLIFORM (MPN/100ml) : Mean : < 2500 MPN/100ml\": \"Fec_col\", \n",
        "                        \"TOTAL COLIFORM (MPN/100ml)-Mean\": \"Tot_col\",\n",
        "                        \"TEMPERATURE ºC : Mean\": \"Temp\",\n",
        "                        \"pH-Mean\":\"PH\"\n",
        "                        })"
      ],
      "execution_count": 89,
      "outputs": []
    },
    {
      "cell_type": "code",
      "metadata": {
        "colab": {
          "base_uri": "https://localhost:8080/"
        },
        "id": "DwB0PrLFKsbO",
        "outputId": "2acf7dbe-3b83-48d7-ec6c-7f1e2e9166ae"
      },
      "source": [
        "df.columns.values"
      ],
      "execution_count": 90,
      "outputs": [
        {
          "output_type": "execute_result",
          "data": {
            "text/plain": [
              "array(['STATION CODE', 'LOCATIONS', 'STATE', 'Temp', 'PH', 'Conductivity',\n",
              "       'BOD', 'NI', 'Fec_col', 'Tot_col', 'DO'], dtype=object)"
            ]
          },
          "metadata": {},
          "execution_count": 90
        }
      ]
    },
    {
      "cell_type": "code",
      "metadata": {
        "colab": {
          "base_uri": "https://localhost:8080/",
          "height": 206
        },
        "id": "z8vk9AqsKpLd",
        "outputId": "b6333720-bc3a-45ed-9337-0754c5123a66"
      },
      "source": [
        "df.head()"
      ],
      "execution_count": 91,
      "outputs": [
        {
          "output_type": "execute_result",
          "data": {
            "text/html": [
              "<div>\n",
              "<style scoped>\n",
              "    .dataframe tbody tr th:only-of-type {\n",
              "        vertical-align: middle;\n",
              "    }\n",
              "\n",
              "    .dataframe tbody tr th {\n",
              "        vertical-align: top;\n",
              "    }\n",
              "\n",
              "    .dataframe thead th {\n",
              "        text-align: right;\n",
              "    }\n",
              "</style>\n",
              "<table border=\"1\" class=\"dataframe\">\n",
              "  <thead>\n",
              "    <tr style=\"text-align: right;\">\n",
              "      <th></th>\n",
              "      <th>STATION CODE</th>\n",
              "      <th>LOCATIONS</th>\n",
              "      <th>STATE</th>\n",
              "      <th>Temp</th>\n",
              "      <th>PH</th>\n",
              "      <th>Conductivity</th>\n",
              "      <th>BOD</th>\n",
              "      <th>NI</th>\n",
              "      <th>Fec_col</th>\n",
              "      <th>Tot_col</th>\n",
              "      <th>DO</th>\n",
              "    </tr>\n",
              "  </thead>\n",
              "  <tbody>\n",
              "    <tr>\n",
              "      <th>0</th>\n",
              "      <td>1533.0</td>\n",
              "      <td>*DIGBOI, TINSUKIA DISTT.,  ASSAM</td>\n",
              "      <td>Assam</td>\n",
              "      <td>23.5</td>\n",
              "      <td>6.5</td>\n",
              "      <td>748.0</td>\n",
              "      <td>1.4</td>\n",
              "      <td>7.0</td>\n",
              "      <td>18.0</td>\n",
              "      <td>12000.0</td>\n",
              "      <td>NaN</td>\n",
              "    </tr>\n",
              "    <tr>\n",
              "      <th>1</th>\n",
              "      <td>1534.0</td>\n",
              "      <td>*KARBI  ANGLONG DISTT., ASSAM</td>\n",
              "      <td>Assam</td>\n",
              "      <td>23.5</td>\n",
              "      <td>6.4</td>\n",
              "      <td>338.0</td>\n",
              "      <td>1.1</td>\n",
              "      <td>0.7</td>\n",
              "      <td>75.0</td>\n",
              "      <td>5500.0</td>\n",
              "      <td>NaN</td>\n",
              "    </tr>\n",
              "    <tr>\n",
              "      <th>2</th>\n",
              "      <td>1535.0</td>\n",
              "      <td>*SIBSAGAR , ASSAM</td>\n",
              "      <td>Assam</td>\n",
              "      <td>24.5</td>\n",
              "      <td>7.0</td>\n",
              "      <td>333.0</td>\n",
              "      <td>1.4</td>\n",
              "      <td>0.5</td>\n",
              "      <td>0.0</td>\n",
              "      <td>91.0</td>\n",
              "      <td>NaN</td>\n",
              "    </tr>\n",
              "    <tr>\n",
              "      <th>3</th>\n",
              "      <td>1536.0</td>\n",
              "      <td>*SIBSAGAR, ASSAM</td>\n",
              "      <td>Assam</td>\n",
              "      <td>22.5</td>\n",
              "      <td>5.7</td>\n",
              "      <td>791.0</td>\n",
              "      <td>1.9</td>\n",
              "      <td>0.3</td>\n",
              "      <td>0.0</td>\n",
              "      <td>46.0</td>\n",
              "      <td>NaN</td>\n",
              "    </tr>\n",
              "    <tr>\n",
              "      <th>4</th>\n",
              "      <td>1537.0</td>\n",
              "      <td>*(JORHAT, ASSAM</td>\n",
              "      <td>Assam</td>\n",
              "      <td>24.5</td>\n",
              "      <td>7.0</td>\n",
              "      <td>510.0</td>\n",
              "      <td>2.2</td>\n",
              "      <td>3.1</td>\n",
              "      <td>54.0</td>\n",
              "      <td>3350.0</td>\n",
              "      <td>NaN</td>\n",
              "    </tr>\n",
              "  </tbody>\n",
              "</table>\n",
              "</div>"
            ],
            "text/plain": [
              "   STATION CODE                         LOCATIONS  STATE  ...  Fec_col  Tot_col   DO\n",
              "0        1533.0  *DIGBOI, TINSUKIA DISTT.,  ASSAM  Assam  ...     18.0  12000.0  NaN\n",
              "1        1534.0     *KARBI  ANGLONG DISTT., ASSAM  Assam  ...     75.0   5500.0  NaN\n",
              "2        1535.0                 *SIBSAGAR , ASSAM  Assam  ...      0.0     91.0  NaN\n",
              "3        1536.0                  *SIBSAGAR, ASSAM  Assam  ...      0.0     46.0  NaN\n",
              "4        1537.0                   *(JORHAT, ASSAM  Assam  ...     54.0   3350.0  NaN\n",
              "\n",
              "[5 rows x 11 columns]"
            ]
          },
          "metadata": {},
          "execution_count": 91
        }
      ]
    },
    {
      "cell_type": "code",
      "metadata": {
        "colab": {
          "base_uri": "https://localhost:8080/",
          "height": 564
        },
        "id": "_1gQ-_YXKqcx",
        "outputId": "afd8003f-b693-46f8-9b1d-03b5317dc237"
      },
      "source": [
        "plt.figure(figsize=(12,8))\n",
        "sns.heatmap(df.isnull(), yticklabels=False, cbar=False, cmap='viridis')"
      ],
      "execution_count": 92,
      "outputs": [
        {
          "output_type": "execute_result",
          "data": {
            "text/plain": [
              "<matplotlib.axes._subplots.AxesSubplot at 0x7f83209c31d0>"
            ]
          },
          "metadata": {},
          "execution_count": 92
        },
        {
          "output_type": "display_data",
          "data": {
            "image/png": "[encoded data removed]",
            "text/plain": [
              "<Figure size 864x576 with 1 Axes>"
            ]
          },
          "metadata": {
            "needs_background": "light"
          }
        }
      ]
    },
    {
      "cell_type": "code",
      "metadata": {
        "id": "xqwP4JL8LzN3"
      },
      "source": [
        "df.to_csv('merged_dataset.csv', index=False)"
      ],
      "execution_count": 93,
      "outputs": []
    },
    {
      "cell_type": "code",
      "metadata": {
        "id": "iihMPI7XMHY8"
      },
      "source": [
        ""
      ],
      "execution_count": null,
      "outputs": []
    }
  ]
}